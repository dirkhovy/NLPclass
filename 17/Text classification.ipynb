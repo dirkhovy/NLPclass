{
 "cells": [
  {
   "cell_type": "markdown",
   "metadata": {
    "slideshow": {
     "slide_type": "slide"
    }
   },
   "source": [
    "# Text classification"
   ]
  },
  {
   "cell_type": "markdown",
   "metadata": {
    "slideshow": {
     "slide_type": "subslide"
    }
   },
   "source": [
    "# Sentiment Analysis\n",
    "\n",
    "<video controls src=\"cartoon.m4v\" type=\"video/mp4\" />"
   ]
  },
  {
   "cell_type": "markdown",
   "metadata": {
    "slideshow": {
     "slide_type": "slide"
    }
   },
   "source": [
    "# Overview\n",
    "\n",
    "In order to train a machine learning model to classify text, we need:\n",
    "1. a way to preprocess text (check!)\n",
    "2. a way to represent each text as vector input (check)\n",
    "3. a label for each text, represented as number\n",
    "4. a model to learn  a function $f(input) = label$\n",
    "5. a way to evaluate how well the model works\n"
   ]
  },
  {
   "cell_type": "code",
   "execution_count": 165,
   "metadata": {
    "slideshow": {
     "slide_type": "-"
    }
   },
   "outputs": [
    {
     "name": "stdout",
     "output_type": "stream",
     "text": [
      "1800 ['neg' 'pos']\n"
     ]
    },
    {
     "data": {
      "text/html": [
       "<div>\n",
       "<style scoped>\n",
       "    .dataframe tbody tr th:only-of-type {\n",
       "        vertical-align: middle;\n",
       "    }\n",
       "\n",
       "    .dataframe tbody tr th {\n",
       "        vertical-align: top;\n",
       "    }\n",
       "\n",
       "    .dataframe thead th {\n",
       "        text-align: right;\n",
       "    }\n",
       "</style>\n",
       "<table border=\"1\" class=\"dataframe\">\n",
       "  <thead>\n",
       "    <tr style=\"text-align: right;\">\n",
       "      <th></th>\n",
       "      <th>input</th>\n",
       "      <th>output</th>\n",
       "    </tr>\n",
       "  </thead>\n",
       "  <tbody>\n",
       "    <tr>\n",
       "      <th>0</th>\n",
       "      <td>shakespeare in love is quite possibly the most...</td>\n",
       "      <td>neg</td>\n",
       "    </tr>\n",
       "    <tr>\n",
       "      <th>1</th>\n",
       "      <td>wizards is an animated feature that begins wit...</td>\n",
       "      <td>neg</td>\n",
       "    </tr>\n",
       "  </tbody>\n",
       "</table>\n",
       "</div>"
      ],
      "text/plain": [
       "                                               input output\n",
       "0  shakespeare in love is quite possibly the most...    neg\n",
       "1  wizards is an animated feature that begins wit...    neg"
      ]
     },
     "execution_count": 165,
     "metadata": {},
     "output_type": "execute_result"
    }
   ],
   "source": [
    "import pandas as pd\n",
    "\n",
    "data = pd.read_csv('sa_train.csv')\n",
    "print(len(data), data['output'].unique())\n",
    "data.head(2)"
   ]
  },
  {
   "cell_type": "markdown",
   "metadata": {
    "slideshow": {
     "slide_type": "slide"
    }
   },
   "source": [
    "# 2. Labels\n",
    "\n",
    "In order for the machine learning model to work with the labels, we need to translate them into a vector of numbers. We can use `sklearn.LabelEncoder`"
   ]
  },
  {
   "cell_type": "code",
   "execution_count": 166,
   "metadata": {},
   "outputs": [
    {
     "name": "stdout",
     "output_type": "stream",
     "text": [
      "[0 0 0 1 1 0 1 1 0 0] 1800\n"
     ]
    }
   ],
   "source": [
    "from sklearn.preprocessing import LabelEncoder\n",
    "\n",
    "# transform labels into numbers\n",
    "labels2numbers = LabelEncoder()\n",
    "\n",
    "y = labels2numbers.fit_transform(data['output'])\n",
    "print(y[:10], len(y))"
   ]
  },
  {
   "cell_type": "markdown",
   "metadata": {},
   "source": [
    "To get the original names back, use `inverse_transform()`:"
   ]
  },
  {
   "cell_type": "code",
   "execution_count": 170,
   "metadata": {},
   "outputs": [
    {
     "data": {
      "text/plain": [
       "array(['pos', 'pos', 'pos', 'pos', 'pos', 'pos'], dtype=object)"
      ]
     },
     "execution_count": 170,
     "metadata": {},
     "output_type": "execute_result"
    }
   ],
   "source": [
    "labels2numbers.inverse_transform([1,1,1,1,1,1])"
   ]
  },
  {
   "cell_type": "markdown",
   "metadata": {
    "slideshow": {
     "slide_type": "slide"
    }
   },
   "source": [
    "# 3. Representing text"
   ]
  },
  {
   "cell_type": "code",
   "execution_count": 171,
   "metadata": {},
   "outputs": [
    {
     "name": "stdout",
     "output_type": "stream",
     "text": [
      "(1800, 67421)\n"
     ]
    }
   ],
   "source": [
    "from sklearn.feature_extraction.text import TfidfVectorizer\n",
    "\n",
    "vectorizer = TfidfVectorizer(ngram_range=(1,2), min_df=0.001, max_df=0.75, stop_words='english')\n",
    "\n",
    "X = vectorizer.fit_transform(data.input)\n",
    "print(X.shape)"
   ]
  },
  {
   "cell_type": "code",
   "execution_count": 172,
   "metadata": {},
   "outputs": [
    {
     "data": {
      "text/plain": [
       "'bad'"
      ]
     },
     "execution_count": 172,
     "metadata": {},
     "output_type": "execute_result"
    }
   ],
   "source": [
    "vectorizer.get_feature_names()[4191]"
   ]
  },
  {
   "cell_type": "code",
   "execution_count": 174,
   "metadata": {},
   "outputs": [
    {
     "data": {
      "text/plain": [
       "40614"
      ]
     },
     "execution_count": 174,
     "metadata": {},
     "output_type": "execute_result"
    }
   ],
   "source": [
    "vectorizer.vocabulary_['movies']"
   ]
  },
  {
   "cell_type": "markdown",
   "metadata": {
    "slideshow": {
     "slide_type": "slide"
    }
   },
   "source": [
    "# 4. Learning a classifier"
   ]
  },
  {
   "cell_type": "markdown",
   "metadata": {
    "slideshow": {
     "slide_type": "subslide"
    }
   },
   "source": [
    "## 4.1: Fitting a model\n",
    "\n",
    "Fitting a model to data in `sklearn` is easy: we use the `fit()` function, giving it the input matrix and output vector. We use `LogisticRegression` here, but there are plenty of others (SVMs, Random Forest, ...)"
   ]
  },
  {
   "cell_type": "code",
   "execution_count": 180,
   "metadata": {},
   "outputs": [
    {
     "name": "stdout",
     "output_type": "stream",
     "text": [
      "CPU times: user 50.9 ms, sys: 106 ms, total: 157 ms\n",
      "Wall time: 1.93 s\n",
      "LogisticRegression(C=1.0, class_weight=None, dual=False, fit_intercept=True,\n",
      "          intercept_scaling=1, max_iter=100, multi_class='warn', n_jobs=-1,\n",
      "          penalty='l2', random_state=None, solver='lbfgs', tol=0.0001,\n",
      "          verbose=0, warm_start=False)\n"
     ]
    }
   ],
   "source": [
    "from sklearn.linear_model import LogisticRegression \n",
    "\n",
    "classifier = LogisticRegression(solver='lbfgs', n_jobs=-1)\n",
    "%time classifier.fit(X, y)\n",
    "print(classifier)"
   ]
  },
  {
   "cell_type": "markdown",
   "metadata": {
    "slideshow": {
     "slide_type": "subslide"
    }
   },
   "source": [
    "We can now examine the weights for the individual words (note that each word has an ID):"
   ]
  },
  {
   "cell_type": "code",
   "execution_count": 183,
   "metadata": {},
   "outputs": [
    {
     "name": "stdout",
     "output_type": "stream",
     "text": [
      "great 1.5371329972418093\n"
     ]
    }
   ],
   "source": [
    "k = vectorizer.vocabulary_['great'] # position for the word 'great'\n",
    "print(vectorizer.get_feature_names()[k], classifier.coef_[0, k])"
   ]
  },
  {
   "cell_type": "markdown",
   "metadata": {
    "slideshow": {
     "slide_type": "slide"
    }
   },
   "source": [
    "# 5. Evaluating models"
   ]
  },
  {
   "cell_type": "code",
   "execution_count": 83,
   "metadata": {},
   "outputs": [],
   "source": [
    "from sklearn.metrics import f1_score, precision_score, recall_score, accuracy_score\n",
    "\n",
    "from sklearn.metrics import classification_report # comprehensive output report"
   ]
  },
  {
   "cell_type": "code",
   "execution_count": 186,
   "metadata": {
    "slideshow": {
     "slide_type": "subslide"
    }
   },
   "outputs": [
    {
     "name": "stdout",
     "output_type": "stream",
     "text": [
      "F1 with 2 folds for bag-of-words is 0.80390531346335\n",
      "Training on 900.0 instances/fold, testing on 900.0\n",
      "\n",
      "F1 with 3 folds for bag-of-words is 0.8133487423267534\n",
      "Training on 1200.0 instances/fold, testing on 600.0\n",
      "\n",
      "F1 with 5 folds for bag-of-words is 0.8227788280259365\n",
      "Training on 1440.0 instances/fold, testing on 360.0\n",
      "\n",
      "F1 with 10 folds for bag-of-words is 0.8333354767465389\n",
      "Training on 1620.0 instances/fold, testing on 180.0\n",
      "\n"
     ]
    }
   ],
   "source": [
    "from sklearn.model_selection import cross_val_score\n",
    "\n",
    "# try out CV options\n",
    "for k in [2,3,5,10]:\n",
    "    cv = cross_val_score(LogisticRegression(solver='lbfgs'), X, y=y, cv=k, n_jobs=-1, scoring=\"f1_micro\")\n",
    "    fold_size = X.shape[0]/k\n",
    "    \n",
    "    print(\"F1 with {} folds for bag-of-words is {}\".format(k, cv.mean()))\n",
    "    print(\"Training on {} instances/fold, testing on {}\".format(fold_size*(k-1), fold_size))\n",
    "    print()"
   ]
  },
  {
   "cell_type": "markdown",
   "metadata": {
    "slideshow": {
     "slide_type": "subslide"
    }
   },
   "source": [
    "# 6 Classifying new data\n",
    "\n",
    "Important: the new data needs to have the same number of features! **Use the same vectorizer!**"
   ]
  },
  {
   "cell_type": "code",
   "execution_count": 187,
   "metadata": {},
   "outputs": [
    {
     "name": "stdout",
     "output_type": "stream",
     "text": [
      "200\n"
     ]
    },
    {
     "data": {
      "text/html": [
       "<div>\n",
       "<style scoped>\n",
       "    .dataframe tbody tr th:only-of-type {\n",
       "        vertical-align: middle;\n",
       "    }\n",
       "\n",
       "    .dataframe tbody tr th {\n",
       "        vertical-align: top;\n",
       "    }\n",
       "\n",
       "    .dataframe thead th {\n",
       "        text-align: right;\n",
       "    }\n",
       "</style>\n",
       "<table border=\"1\" class=\"dataframe\">\n",
       "  <thead>\n",
       "    <tr style=\"text-align: right;\">\n",
       "      <th></th>\n",
       "      <th>input</th>\n",
       "      <th>output</th>\n",
       "    </tr>\n",
       "  </thead>\n",
       "  <tbody>\n",
       "    <tr>\n",
       "      <th>0</th>\n",
       "      <td>robert redford ' s a river runs through it is ...</td>\n",
       "      <td>pos</td>\n",
       "    </tr>\n",
       "    <tr>\n",
       "      <th>1</th>\n",
       "      <td>if the 70 ' s nostalgia didn ' t make you feel...</td>\n",
       "      <td>neg</td>\n",
       "    </tr>\n",
       "    <tr>\n",
       "      <th>2</th>\n",
       "      <td>you think that these people only exist in the ...</td>\n",
       "      <td>neg</td>\n",
       "    </tr>\n",
       "    <tr>\n",
       "      <th>3</th>\n",
       "      <td>\" knock off \" is exactly that : a cheap knock ...</td>\n",
       "      <td>neg</td>\n",
       "    </tr>\n",
       "    <tr>\n",
       "      <th>4</th>\n",
       "      <td>brian depalma needs a hit * really * badly . s...</td>\n",
       "      <td>pos</td>\n",
       "    </tr>\n",
       "  </tbody>\n",
       "</table>\n",
       "</div>"
      ],
      "text/plain": [
       "                                               input output\n",
       "0  robert redford ' s a river runs through it is ...    pos\n",
       "1  if the 70 ' s nostalgia didn ' t make you feel...    neg\n",
       "2  you think that these people only exist in the ...    neg\n",
       "3  \" knock off \" is exactly that : a cheap knock ...    neg\n",
       "4  brian depalma needs a hit * really * badly . s...    pos"
      ]
     },
     "execution_count": 187,
     "metadata": {},
     "output_type": "execute_result"
    }
   ],
   "source": [
    "# read in new data set\n",
    "new_data = pd.read_csv('sa_test.csv')\n",
    "print(len(new_data))\n",
    "new_data.head()"
   ]
  },
  {
   "cell_type": "code",
   "execution_count": 188,
   "metadata": {},
   "outputs": [
    {
     "name": "stdout",
     "output_type": "stream",
     "text": [
      "              precision    recall  f1-score   support\n",
      "\n",
      "           0       0.85      0.84      0.84       111\n",
      "           1       0.80      0.81      0.80        89\n",
      "\n",
      "   micro avg       0.82      0.82      0.82       200\n",
      "   macro avg       0.82      0.82      0.82       200\n",
      "weighted avg       0.83      0.82      0.83       200\n",
      "\n"
     ]
    }
   ],
   "source": [
    "# transform text into word counts\n",
    "# IMPORTANT: use same vectorizer we fit on training data to create vectors!\n",
    "new_X = vectorizer.transform(new_data['input'])\n",
    "# ALSO IMPORTANT: use same label transformer\n",
    "new_y = labels2numbers.transform(new_data['output']) \n",
    "\n",
    "# use the old classifier to predict and evaluate\n",
    "new_predictions = classifier.predict(new_X)\n",
    "print(classification_report(new_y, new_predictions))"
   ]
  },
  {
   "cell_type": "markdown",
   "metadata": {
    "slideshow": {
     "slide_type": "subslide"
    }
   },
   "source": [
    "# 7. Regularization\n",
    "\n",
    "A simple example of regularization is to \"corrupt\" the training data by adding a little bit of noise to each training instance. Since the noise is irregular, it becomes harder for the model to learn any patterns."
   ]
  },
  {
   "cell_type": "code",
   "execution_count": 189,
   "metadata": {},
   "outputs": [
    {
     "name": "stdout",
     "output_type": "stream",
     "text": [
      "              precision    recall  f1-score   support\n",
      "\n",
      "           0       0.92      0.11      0.19       111\n",
      "           1       0.47      0.99      0.64        89\n",
      "\n",
      "   micro avg       0.50      0.50      0.50       200\n",
      "   macro avg       0.70      0.55      0.42       200\n",
      "weighted avg       0.72      0.50      0.39       200\n",
      "\n",
      "              precision    recall  f1-score   support\n",
      "\n",
      "           0       0.83      0.05      0.09       111\n",
      "           1       0.45      0.99      0.62        89\n",
      "\n",
      "   micro avg       0.47      0.47      0.47       200\n",
      "   macro avg       0.64      0.52      0.35       200\n",
      "weighted avg       0.66      0.47      0.32       200\n",
      "\n",
      "              precision    recall  f1-score   support\n",
      "\n",
      "           0       0.90      0.08      0.15       111\n",
      "           1       0.46      0.99      0.63        89\n",
      "\n",
      "   micro avg       0.48      0.48      0.48       200\n",
      "   macro avg       0.68      0.53      0.39       200\n",
      "weighted avg       0.71      0.48      0.36       200\n",
      "\n",
      "              precision    recall  f1-score   support\n",
      "\n",
      "           0       0.91      0.09      0.16       111\n",
      "           1       0.47      0.99      0.63        89\n",
      "\n",
      "   micro avg       0.49      0.49      0.49       200\n",
      "   macro avg       0.69      0.54      0.40       200\n",
      "weighted avg       0.71      0.49      0.37       200\n",
      "\n",
      "              precision    recall  f1-score   support\n",
      "\n",
      "           0       1.00      0.08      0.15       111\n",
      "           1       0.47      1.00      0.64        89\n",
      "\n",
      "   micro avg       0.49      0.49      0.49       200\n",
      "   macro avg       0.73      0.54      0.39       200\n",
      "weighted avg       0.76      0.49      0.37       200\n",
      "\n"
     ]
    }
   ],
   "source": [
    "from scipy.sparse import random\n",
    "\n",
    "num_instances, num_features = X.shape\n",
    "\n",
    "for i in range(5):\n",
    "    X_regularized = X + random(num_instances, num_features, density=0.01)\n",
    "\n",
    "    classifier_regularized = LogisticRegression(solver='lbfgs').fit(X_regularized, y)\n",
    "\n",
    "    new_predictions_regularized = classifier_regularized.predict(new_X)\n",
    "    print(classification_report(new_y, new_predictions_regularized))"
   ]
  },
  {
   "cell_type": "markdown",
   "metadata": {
    "slideshow": {
     "slide_type": "subslide"
    }
   },
   "source": [
    "If you run the previous cell several times, you see different results (it gets even more varied if you change `density`). This variation arises because we add **random** noise. Not good...\n",
    "\n",
    "Instead, it makes sense to force the model to spread the weights more evenly over all features, rather than bet on a few feature, which mighht not be present in future data.\n",
    "\n",
    "We can do this by training the model with the `C` parameter. The default is `1`. Lower values mean stricter regularization."
   ]
  },
  {
   "cell_type": "code",
   "execution_count": 190,
   "metadata": {},
   "outputs": [
    {
     "name": "stdout",
     "output_type": "stream",
     "text": [
      "5-CV on train at C=10: 0.8450011102623393\n",
      "              precision    recall  f1-score   support\n",
      "\n",
      "           0       0.86      0.86      0.86       111\n",
      "           1       0.82      0.83      0.83        89\n",
      "\n",
      "   micro avg       0.84      0.84      0.84       200\n",
      "   macro avg       0.84      0.84      0.84       200\n",
      "weighted avg       0.85      0.84      0.85       200\n",
      "\n",
      "\n",
      "5-CV on train at C=1.0: 0.8227788280259365\n",
      "              precision    recall  f1-score   support\n",
      "\n",
      "           0       0.85      0.84      0.84       111\n",
      "           1       0.80      0.81      0.80        89\n",
      "\n",
      "   micro avg       0.82      0.82      0.82       200\n",
      "   macro avg       0.82      0.82      0.82       200\n",
      "weighted avg       0.83      0.82      0.83       200\n",
      "\n",
      "\n",
      "5-CV on train at C=0.5: 0.816112144212361\n",
      "              precision    recall  f1-score   support\n",
      "\n",
      "           0       0.83      0.80      0.82       111\n",
      "           1       0.76      0.80      0.78        89\n",
      "\n",
      "   micro avg       0.80      0.80      0.80       200\n",
      "   macro avg       0.80      0.80      0.80       200\n",
      "weighted avg       0.80      0.80      0.80       200\n",
      "\n",
      "\n",
      "5-CV on train at C=0.1: 0.7805687972558087\n",
      "              precision    recall  f1-score   support\n",
      "\n",
      "           0       0.89      0.72      0.80       111\n",
      "           1       0.72      0.89      0.79        89\n",
      "\n",
      "   micro avg       0.80      0.80      0.80       200\n",
      "   macro avg       0.80      0.80      0.79       200\n",
      "weighted avg       0.81      0.80      0.80       200\n",
      "\n",
      "\n",
      "5-CV on train at C=0.05: 0.7211272506389366\n",
      "              precision    recall  f1-score   support\n",
      "\n",
      "           0       0.91      0.57      0.70       111\n",
      "           1       0.63      0.93      0.75        89\n",
      "\n",
      "   micro avg       0.73      0.73      0.73       200\n",
      "   macro avg       0.77      0.75      0.73       200\n",
      "weighted avg       0.79      0.73      0.72       200\n",
      "\n",
      "\n",
      "5-CV on train at C=0.01: 0.5061111325447469\n",
      "              precision    recall  f1-score   support\n",
      "\n",
      "           0       1.00      0.02      0.04       111\n",
      "           1       0.45      1.00      0.62        89\n",
      "\n",
      "   micro avg       0.46      0.46      0.46       200\n",
      "   macro avg       0.72      0.51      0.33       200\n",
      "weighted avg       0.76      0.46      0.30       200\n",
      "\n",
      "\n",
      "5-CV on train at C=0.005: 0.5061111325447469\n",
      "              precision    recall  f1-score   support\n",
      "\n",
      "           0       0.00      0.00      0.00       111\n",
      "           1       0.45      1.00      0.62        89\n",
      "\n",
      "   micro avg       0.45      0.45      0.45       200\n",
      "   macro avg       0.22      0.50      0.31       200\n",
      "weighted avg       0.20      0.45      0.27       200\n",
      "\n",
      "\n"
     ]
    },
    {
     "name": "stderr",
     "output_type": "stream",
     "text": [
      "/Users/dirkhovy/anaconda3/lib/python3.6/site-packages/sklearn/metrics/classification.py:1143: UndefinedMetricWarning: Precision and F-score are ill-defined and being set to 0.0 in labels with no predicted samples.\n",
      "  'precision', 'predicted', average, warn_for)\n",
      "/Users/dirkhovy/anaconda3/lib/python3.6/site-packages/sklearn/metrics/classification.py:1143: UndefinedMetricWarning: Precision and F-score are ill-defined and being set to 0.0 in labels with no predicted samples.\n",
      "  'precision', 'predicted', average, warn_for)\n",
      "/Users/dirkhovy/anaconda3/lib/python3.6/site-packages/sklearn/metrics/classification.py:1143: UndefinedMetricWarning: Precision and F-score are ill-defined and being set to 0.0 in labels with no predicted samples.\n",
      "  'precision', 'predicted', average, warn_for)\n"
     ]
    },
    {
     "name": "stdout",
     "output_type": "stream",
     "text": [
      "5-CV on train at C=0.001: 0.5061111325447469\n",
      "              precision    recall  f1-score   support\n",
      "\n",
      "           0       0.00      0.00      0.00       111\n",
      "           1       0.45      1.00      0.62        89\n",
      "\n",
      "   micro avg       0.45      0.45      0.45       200\n",
      "   macro avg       0.22      0.50      0.31       200\n",
      "weighted avg       0.20      0.45      0.27       200\n",
      "\n",
      "\n"
     ]
    },
    {
     "name": "stderr",
     "output_type": "stream",
     "text": [
      "/Users/dirkhovy/anaconda3/lib/python3.6/site-packages/sklearn/metrics/classification.py:1143: UndefinedMetricWarning: Precision and F-score are ill-defined and being set to 0.0 in labels with no predicted samples.\n",
      "  'precision', 'predicted', average, warn_for)\n",
      "/Users/dirkhovy/anaconda3/lib/python3.6/site-packages/sklearn/metrics/classification.py:1143: UndefinedMetricWarning: Precision and F-score are ill-defined and being set to 0.0 in labels with no predicted samples.\n",
      "  'precision', 'predicted', average, warn_for)\n",
      "/Users/dirkhovy/anaconda3/lib/python3.6/site-packages/sklearn/metrics/classification.py:1143: UndefinedMetricWarning: Precision and F-score are ill-defined and being set to 0.0 in labels with no predicted samples.\n",
      "  'precision', 'predicted', average, warn_for)\n"
     ]
    }
   ],
   "source": [
    "best_c = None\n",
    "best_f1_score = 0.0\n",
    "\n",
    "for c in [10, 1.0, 0.5, 0.1, 0.05, 0.01, 0.005, 0.001]:\n",
    "    clf = LogisticRegression(C=c, solver='lbfgs').fit(X, y)\n",
    "    cv_reg = cross_val_score(clf, X, y=y, cv=5, n_jobs=-1, scoring=\"f1_micro\")\n",
    "\n",
    "    new_predictions_regularized = clf.predict(new_X)\n",
    "    print(\"5-CV on train at C={}: {}\".format(c, cv_reg.mean()))\n",
    "    print(classification_report(new_y, new_predictions_regularized))\n",
    "    print()\n",
    "    f1 = f1_score(new_y, new_predictions_regularized, average='micro')\n",
    "    if f1 > best_f1_score:\n",
    "        best_f1_score = f1\n",
    "        best_c = c"
   ]
  },
  {
   "cell_type": "code",
   "execution_count": 191,
   "metadata": {},
   "outputs": [
    {
     "data": {
      "text/plain": [
       "10"
      ]
     },
     "execution_count": 191,
     "metadata": {},
     "output_type": "execute_result"
    }
   ],
   "source": [
    "best_c"
   ]
  },
  {
   "cell_type": "markdown",
   "metadata": {
    "slideshow": {
     "slide_type": "slide"
    }
   },
   "source": [
    "# 8. Better features = better performance"
   ]
  },
  {
   "cell_type": "code",
   "execution_count": 192,
   "metadata": {},
   "outputs": [
    {
     "data": {
      "text/plain": [
       "(1800, 67421)"
      ]
     },
     "execution_count": 192,
     "metadata": {},
     "output_type": "execute_result"
    }
   ],
   "source": [
    "X.shape"
   ]
  },
  {
   "cell_type": "markdown",
   "metadata": {
    "slideshow": {
     "slide_type": "subslide"
    }
   },
   "source": [
    "We now have **a lot** of features! More than we have actual examples...\n",
    "\n",
    "We use two libraries from `sklearn`, `SelectKBest` (the selection algorithm) and `chi2` (the selection criterion)."
   ]
  },
  {
   "cell_type": "code",
   "execution_count": 193,
   "metadata": {},
   "outputs": [
    {
     "name": "stdout",
     "output_type": "stream",
     "text": [
      "(1800, 1500)\n"
     ]
    }
   ],
   "source": [
    "from sklearn.feature_selection import SelectKBest\n",
    "from sklearn.feature_selection import chi2\n",
    "\n",
    "top_k = 1500\n",
    "\n",
    "selector = SelectKBest(chi2, k=top_k).fit(X, y)\n",
    "X_sel = selector.transform(X)\n",
    "print(X_sel.shape)"
   ]
  },
  {
   "cell_type": "code",
   "execution_count": 194,
   "metadata": {},
   "outputs": [
    {
     "name": "stdout",
     "output_type": "stream",
     "text": [
      "5-CV on train: 0.8999966134855292\n"
     ]
    }
   ],
   "source": [
    "# test a regularized classifier on feature selection\n",
    "clf = LogisticRegression(C=best_c, solver='lbfgs')\n",
    "\n",
    "cv_reg = cross_val_score(clf, X_sel, y=y, cv=5, n_jobs=-1, scoring=\"f1_micro\")\n",
    "print(\"5-CV on train: {}\".format(cv_reg.mean()))"
   ]
  },
  {
   "cell_type": "markdown",
   "metadata": {
    "slideshow": {
     "slide_type": "subslide"
    }
   },
   "source": [
    "Not too bad! We have handily beaten our previous best! Let's fit a classifier on this data."
   ]
  },
  {
   "cell_type": "code",
   "execution_count": 195,
   "metadata": {},
   "outputs": [
    {
     "data": {
      "text/plain": [
       "LogisticRegression(C=10, class_weight=None, dual=False, fit_intercept=True,\n",
       "          intercept_scaling=1, max_iter=100, multi_class='warn',\n",
       "          n_jobs=None, penalty='l2', random_state=None, solver='lbfgs',\n",
       "          tol=0.0001, verbose=0, warm_start=False)"
      ]
     },
     "execution_count": 195,
     "metadata": {},
     "output_type": "execute_result"
    }
   ],
   "source": [
    "clf.fit(X_sel, y)"
   ]
  },
  {
   "cell_type": "markdown",
   "metadata": {
    "slideshow": {
     "slide_type": "subslide"
    }
   },
   "source": [
    "Now, let's see how well we do on the held-out data set. \n",
    "We need to select **the same top features** (using our previously fitted selector!)"
   ]
  },
  {
   "cell_type": "code",
   "execution_count": 196,
   "metadata": {},
   "outputs": [
    {
     "name": "stdout",
     "output_type": "stream",
     "text": [
      "(200, 67421)\n",
      "(200, 1500)\n"
     ]
    }
   ],
   "source": [
    "print(new_X.shape)\n",
    "# select features for new data\n",
    "new_X_sel = selector.transform(new_X)\n",
    "print(new_X_sel.shape)"
   ]
  },
  {
   "cell_type": "markdown",
   "metadata": {
    "slideshow": {
     "slide_type": "subslide"
    }
   },
   "source": [
    "Finally, we can use our new classifier to predict the new data labels, and compare them to the truth."
   ]
  },
  {
   "cell_type": "code",
   "execution_count": 197,
   "metadata": {},
   "outputs": [
    {
     "name": "stdout",
     "output_type": "stream",
     "text": [
      "              precision    recall  f1-score   support\n",
      "\n",
      "           0       0.88      0.84      0.86       111\n",
      "           1       0.81      0.85      0.83        89\n",
      "\n",
      "   micro avg       0.84      0.84      0.84       200\n",
      "   macro avg       0.84      0.85      0.84       200\n",
      "weighted avg       0.85      0.84      0.85       200\n",
      "\n"
     ]
    }
   ],
   "source": [
    "new_predictions_regularized = clf.predict(new_X_sel)\n",
    "print(classification_report(new_y, new_predictions_regularized))"
   ]
  },
  {
   "cell_type": "code",
   "execution_count": 199,
   "metadata": {},
   "outputs": [
    {
     "name": "stdout",
     "output_type": "stream",
     "text": [
      "               term     score\n",
      "93              bad -8.763561\n",
      "1476          worst -6.225661\n",
      "1290       supposed -6.212568\n",
      "1029           plot -6.076469\n",
      "167          boring -5.747218\n",
      "84          attempt -5.078269\n",
      "1384  unfortunately -5.076861\n",
      "1276         stupid -4.701718\n",
      "1173         script -4.598133\n",
      "875            mess -4.459903\n",
      "1041           poor -4.359547\n",
      "371            dull -4.327193\n",
      "1436         wasted -4.266811\n",
      "1121     ridiculous -4.135235\n",
      "859           maybe -4.073093\n",
      "1434          waste -4.008698\n",
      "91            awful -3.997694\n",
      "804           looks -3.954008\n",
      "1321       terrible -3.833976\n",
      "1096         reason -3.825951\n",
      "762            lame -3.684840\n",
      "1043         poorly -3.683090\n",
      "435           fails -3.592528\n",
      "473      filmmakers -3.575969\n",
      "232           cheap -3.481465\n",
      "483            flat -3.371199\n",
      "1373             tv -3.363898\n",
      "1049      potential -3.279457\n",
      "709            joke -3.237758\n",
      "1483          write -3.235114\n",
      "...             ...       ...\n",
      "200         cameron  2.925037\n",
      "982           oscar  2.948531\n",
      "1236          solid  2.972743\n",
      "988     outstanding  2.999408\n",
      "1393         unlike  3.011344\n",
      "531           gives  3.012762\n",
      "386       effective  3.169990\n",
      "445          family  3.239620\n",
      "1471          works  3.307028\n",
      "1366         truman  3.316736\n",
      "853          matrix  3.369906\n",
      "1015    performance  3.380017\n",
      "132            best  3.393494\n",
      "122       beautiful  3.427185\n",
      "343       different  3.477579\n",
      "1012        perfect  3.507057\n",
      "418       excellent  3.513494\n",
      "1016   performances  3.614301\n",
      "412      especially  3.728154\n",
      "1343          today  3.851180\n",
      "788            life  3.902858\n",
      "1468      wonderful  3.946905\n",
      "323      definitely  3.992197\n",
      "869       memorable  4.037435\n",
      "990         overall  4.272077\n",
      "1323       terrific  4.381090\n",
      "602       hilarious  4.397499\n",
      "1078          quite  4.435511\n",
      "1014      perfectly  4.445970\n",
      "554           great  7.313600\n",
      "\n",
      "[1500 rows x 2 columns]\n"
     ]
    }
   ],
   "source": [
    "features = vectorizer.get_feature_names() # get the names of the features\n",
    "top_scores = selector.scores_.argsort()[-top_k:] # get the indices of the selection\n",
    "best_indicator_terms = [features[i] for i in sorted(top_scores)] # sort feature names\n",
    "top_indicator_scores = pd.DataFrame(data=list(zip(best_indicator_terms, clf.coef_[0])), columns=['term', 'score'])\n",
    "print(top_indicator_scores.sort_values('score'))"
   ]
  },
  {
   "cell_type": "markdown",
   "metadata": {
    "slideshow": {
     "slide_type": "slide"
    }
   },
   "source": [
    "# Checklist: how to classify my data\n",
    "\n",
    "1. label at *least 2000* documents in your data set as `positive`, `negative`, or `neutral`\n",
    "2. preprocess the text of *all* documents in your data (labeled and unlabeled)\n",
    "3. read in the labeled documents and their labels\n",
    "4. transform the labels into numbers\n",
    "5. use `TfidfVectorizer` to extract the word unigram and bigram counts (or any other features) and transform them into TFIDF feature vectors\n",
    "6. select the top $N$ features (where $N$ is smaller than the number of labeled documents)\n",
    "7. create a classifier\n",
    "8. use 5-fold CV to find the best regularization parameter, top $N$ feature selection, and maybe feature generation and preprocessing steps. Try different classifiers\n",
    "\n",
    "Once you are satisfied with the results:\n",
    "9. read in the rest of the (unlabeled) documents\n",
    "10. extract the word unigram and bigram counts (or any other features)\n",
    "11. use the `TfidfVectorizer` from 5. to transform the new data into vectors\n",
    "12. use the `SelectKBest` selector from 6. to get the top $N$ features\n",
    "13. use the classifier from 7. to predict the labels for the new data\n",
    "14. save the labels to your database or an Excel file\n"
   ]
  },
  {
   "cell_type": "code",
   "execution_count": 219,
   "metadata": {},
   "outputs": [
    {
     "name": "stdout",
     "output_type": "stream",
     "text": [
      "5-CV on train: 0.5405480194891765\n"
     ]
    }
   ],
   "source": [
    "from sklearn.ensemble import RandomForestClassifier\n",
    "from sklearn.discriminant_analysis import LinearDiscriminantAnalysis\n",
    "\n",
    "# clf2 = LinearDiscriminantAnalysis()\n",
    "\n",
    "clf2 = RandomForestClassifier(n_estimators=1000, class_weight='balanced')\n",
    "\n",
    "cv_reg2 = cross_val_score(clf2, X_sel, y=y, cv=5, n_jobs=-1, scoring=\"f1_micro\")\n",
    "print(\"5-CV on train: {}\".format(cv_reg2.mean()))"
   ]
  },
  {
   "cell_type": "markdown",
   "metadata": {},
   "source": [
    "[https://towardsdatascience.com/hyperparameter-tuning-the-random-forest-in-python-using-scikit-learn-28d2aa77dd74](https://towardsdatascience.com/hyperparameter-tuning-the-random-forest-in-python-using-scikit-learn-28d2aa77dd74)"
   ]
  },
  {
   "cell_type": "markdown",
   "metadata": {},
   "source": [
    "# 9. Feature Selection with Stability Selection"
   ]
  },
  {
   "cell_type": "code",
   "execution_count": 203,
   "metadata": {},
   "outputs": [
    {
     "name": "stderr",
     "output_type": "stream",
     "text": [
      "/Users/dirkhovy/anaconda3/lib/python3.6/site-packages/sklearn/utils/deprecation.py:58: DeprecationWarning: Class RandomizedLogisticRegression is deprecated; The class RandomizedLogisticRegression is deprecated in 0.19 and will be removed in 0.21.\n",
      "  warnings.warn(msg, category=DeprecationWarning)\n"
     ]
    }
   ],
   "source": [
    "from sklearn.linear_model import RandomizedLogisticRegression\n",
    "rlr = RandomizedLogisticRegression()"
   ]
  },
  {
   "cell_type": "code",
   "execution_count": 214,
   "metadata": {},
   "outputs": [],
   "source": [
    "import numpy as np\n",
    "\n",
    "def RLR(X, y, target, vectorizer, selection_threshold=0.1, num_iters=200):\n",
    "    n_instances, n_feats = X.shape\n",
    "    \n",
    "    pos_scores = [] # all coefficient > 0\n",
    "    neg_scores = [] # all coefficient < 0\n",
    "    # choices for lambda weight\n",
    "    penalities = [10,5,2,1,0.5,0.1,0.05,0.01,0.005,0.001,0.0001, 0.00001]\n",
    "\n",
    "    # create binary labels by testing whether a label is the target class or not\n",
    "    labels = np.array(y == target, dtype=int)\n",
    "    \n",
    "    # select repeated subsamples\n",
    "    for iteration in range(num_iters):\n",
    "        # initialize a model with randomly-weighted L1 penalty\n",
    "        # IMPORTANT: we need a different solver\n",
    "        clf = LogisticRegression(penalty='l1', C=penalities[np.random.randint(len(penalities))], solver='liblinear')\n",
    "\n",
    "        # choose a random subset of indices of the data with replacement\n",
    "        selection = np.random.choice(n_instances, size=int(n_instances * 0.75))\n",
    "        try:\n",
    "            clf.fit(X[selection], labels[selection])\n",
    "        except ValueError as ve:\n",
    "            print(ve.with_traceback())\n",
    "            continue\n",
    "\n",
    "        # record which coefficients got a positive or negative score\n",
    "        pos_scores.append(clf.coef_ > 0)\n",
    "        neg_scores.append(clf.coef_ < 0)\n",
    "\n",
    "    # normalize the counts\n",
    "    pos_scores = (np.array(pos_scores).sum(axis=0)/num_iters).reshape(-1)\n",
    "    neg_scores = (np.array(neg_scores).sum(axis=0)/num_iters).reshape(-1)\n",
    "\n",
    "    # find the features corresponding to the non-zero coefficients\n",
    "    features = vectorizer.get_feature_names()\n",
    "    pos_positions = [i for i, v in enumerate(pos_scores >= selection_threshold) if v]\n",
    "    neg_positions = [i for i, v in enumerate(neg_scores >= selection_threshold) if v]\n",
    "\n",
    "    pos = [(features[i], pos_scores[i]) for i in pos_positions]\n",
    "    neg = [(features[i], neg_scores[i]) for i in neg_positions]\n",
    "\n",
    "    posdf = pd.DataFrame(pos, columns='term score'.split()).sort_values('score', ascending=False)\n",
    "    negdf = pd.DataFrame(neg, columns='term score'.split()).sort_values('score', ascending=False)\n",
    "\n",
    "    return posdf, negdf"
   ]
  },
  {
   "cell_type": "code",
   "execution_count": 215,
   "metadata": {},
   "outputs": [],
   "source": [
    "pos, neg = RLR(X, y, 0, vectorizer=vectorizer)"
   ]
  },
  {
   "cell_type": "code",
   "execution_count": 216,
   "metadata": {},
   "outputs": [
    {
     "data": {
      "image/png": "[encoded data removed]",
      "text/plain": [
       "<Figure size 1440x576 with 1 Axes>"
      ]
     },
     "metadata": {
      "needs_background": "light"
     },
     "output_type": "display_data"
    }
   ],
   "source": [
    "%matplotlib inline\n",
    "import matplotlib.pyplot as plt\n",
    "import seaborn as sb\n",
    "sb.set_context('poster')\n",
    "\n",
    "fig, ax = plt.subplots(figsize=(20,8))\n",
    "pos[:20].plot.bar(ax=ax, x='term');"
   ]
  },
  {
   "cell_type": "code",
   "execution_count": 208,
   "metadata": {},
   "outputs": [
    {
     "data": {
      "image/png": "[encoded data removed]",
      "text/plain": [
       "<Figure size 1440x576 with 1 Axes>"
      ]
     },
     "metadata": {
      "needs_background": "light"
     },
     "output_type": "display_data"
    }
   ],
   "source": [
    "fig, ax = plt.subplots(figsize=(20,8))\n",
    "neg[:20].plot.bar(ax=ax, x='term');"
   ]
  },
  {
   "cell_type": "markdown",
   "metadata": {},
   "source": [
    "Let's use them"
   ]
  },
  {
   "cell_type": "code",
   "execution_count": 209,
   "metadata": {},
   "outputs": [
    {
     "name": "stdout",
     "output_type": "stream",
     "text": [
      "(1800, 204)\n",
      "0.8644625430065904\n"
     ]
    }
   ],
   "source": [
    "best = pos.term.tolist() + neg.term.tolist()\n",
    "ids = [vectorizer.vocabulary_[i] for i in best]\n",
    "X_selection = X[:, ids]\n",
    "\n",
    "print(X_selection.shape)\n",
    "print(cross_val_score(estimator=clf, X=X_selection, y=y, cv=5, scoring='f1_micro').mean())"
   ]
  },
  {
   "cell_type": "code",
   "execution_count": 210,
   "metadata": {},
   "outputs": [
    {
     "name": "stdout",
     "output_type": "stream",
     "text": [
      "              precision    recall  f1-score   support\n",
      "\n",
      "           0       0.82      0.76      0.79       111\n",
      "           1       0.72      0.80      0.76        89\n",
      "\n",
      "   micro avg       0.78      0.78      0.78       200\n",
      "   macro avg       0.77      0.78      0.77       200\n",
      "weighted avg       0.78      0.78      0.78       200\n",
      "\n"
     ]
    }
   ],
   "source": [
    "clf_RLR = LogisticRegression(solver='lbfgs', C=100)\n",
    "\n",
    "clf_RLR.fit(X[:, ids], y)\n",
    "\n",
    "new_predictions_RLR = clf_RLR.predict(new_X[:, ids])\n",
    "print(classification_report(new_y, new_predictions_RLR))"
   ]
  },
  {
   "cell_type": "code",
   "execution_count": null,
   "metadata": {},
   "outputs": [],
   "source": []
  }
 ],
 "metadata": {
  "anaconda-cloud": {},
  "celltoolbar": "Slideshow",
  "kernelspec": {
   "display_name": "Python 3",
   "language": "python",
   "name": "python3"
  },
  "language_info": {
   "codemirror_mode": {
    "name": "ipython",
    "version": 3
   },
   "file_extension": ".py",
   "mimetype": "text/x-python",
   "name": "python",
   "nbconvert_exporter": "python",
   "pygments_lexer": "ipython3",
   "version": "3.6.8"
  },
  "livereveal": {
   "scroll": true,
   "start_slideshow_at": "selected",
   "transition": "none"
  }
 },
 "nbformat": 4,
 "nbformat_minor": 2
}
