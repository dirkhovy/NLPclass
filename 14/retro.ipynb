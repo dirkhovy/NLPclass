{
 "cells": [
  {
   "cell_type": "markdown",
   "metadata": {},
   "source": [
    "# Retrofitting\n",
    "\n",
    "## Data collection\n",
    "\n",
    "- Download the data set called \"cmu\" from:\n",
    "https://www.amazon.com/clouddrive/share/kfl0TTPDkXuFqTZ17WJSnhXT0q6fGkTlOTOLZ9VVPNu/folder/jRda2ADlTYy9XhWB9RUNng?_encoding=UTF8&*Version*=1&*entries*=0&mgh=1\n",
    "- Put the zip file into the same directory of this notebook.\n",
    "- Unzip the file. A folder \"cmu\" will be created.\n",
    "- Into the new folder, unzip the gz files (training, development and test set).\n"
   ]
  },
  {
   "cell_type": "markdown",
   "metadata": {},
   "source": [
    "## Display settings"
   ]
  },
  {
   "cell_type": "code",
   "execution_count": 1,
   "metadata": {},
   "outputs": [
    {
     "data": {
      "text/html": [
       "\n",
       "<style>\n",
       "    div#notebook-container    { width: 99%; }\n",
       "    div#menubar-container     { width: 99%; }\n",
       "    div#maintoolbar-container { width: 99%; }\n",
       "</style>\n"
      ],
      "text/plain": [
       "<IPython.core.display.HTML object>"
      ]
     },
     "metadata": {},
     "output_type": "display_data"
    }
   ],
   "source": [
    "from IPython.display import display, HTML\n",
    "display(HTML(data=\"\"\"\n",
    "<style>\n",
    "    div#notebook-container    { width: 99%; }\n",
    "    div#menubar-container     { width: 99%; }\n",
    "    div#maintoolbar-container { width: 99%; }\n",
    "</style>\n",
    "\"\"\"))"
   ]
  },
  {
   "cell_type": "markdown",
   "metadata": {},
   "source": [
    "## Some useful functions"
   ]
  },
  {
   "cell_type": "code",
   "execution_count": 2,
   "metadata": {},
   "outputs": [],
   "source": [
    "import re\n",
    "import pickle\n",
    "\n",
    "def file2str(pathfile, coding='utf-8'):\n",
    "    '''\n",
    "    input: (path to) file\n",
    "    output: file as string\n",
    "    '''\n",
    "    with open(pathfile, 'r', encoding=coding) as input_file:\n",
    "        out = input_file.read()\n",
    "    return out\n",
    "\n",
    "def tsv2matrix(pathfile, filenc='utf-8', elemtype='str'):\n",
    "    '''\n",
    "    input: tsv file\n",
    "    output: list of lists \n",
    "    '''\n",
    "    str_file = file2str(pathfile, coding=filenc)\n",
    "    str_file = re.sub(\"\\n+$\", '', str_file) # removing newline(s) at the end of the file\n",
    "    if   elemtype == 'int':   out = [[int(elem)   for elem in row.split(\"\\t\")] for row in str_file.split(\"\\n\")]\n",
    "    elif elemtype == 'float': out = [[float(elem) for elem in row.split(\"\\t\")] for row in str_file.split(\"\\n\")]\n",
    "    else:                     out = [[str(elem)   for elem in row.split(\"\\t\")] for row in str_file.split(\"\\n\")]\n",
    "    return out\n",
    "\n",
    "def writebin(data: object, f_out: object) -> object:\n",
    "    out = open(f_out, \"wb\")\n",
    "    pickle.dump(data, out)\n",
    "    out.close()\n",
    "    return 1\n",
    "\n",
    "\n",
    "def readbin(f_in):\n",
    "    inp = open(f_in, \"rb\")\n",
    "    out = pickle.load(inp)\n",
    "    inp.close()\n",
    "    return out\n"
   ]
  },
  {
   "cell_type": "markdown",
   "metadata": {},
   "source": [
    "## Loading the data sets"
   ]
  },
  {
   "cell_type": "code",
   "execution_count": 3,
   "metadata": {},
   "outputs": [
    {
     "name": "stdout",
     "output_type": "stream",
     "text": [
      "len tst:   1895\n",
      "len dev:   1895\n",
      "len trn:   5685\n",
      "len whole: 9475\n",
      "\n",
      "USER_79321756\n",
      "47.528139\n",
      "-122.197916\n",
      "RT @USER_2ff4faca: IF SHE DO IT 1 MORE TIME......IMA KNOCK HER DAMN KOOFIE OFF.....ON MY MOMMA&gt;&gt;haha. #cutthatout ||| @USER_77a4822d @USER_2ff4faca okay:) lol. Saying ok to both of yall about to different things!:* ||| RT @USER_5d4d777a: YOURE A FAG FOR GETTING IN THE MIDDLE OF THIS @USER_ab05\n"
     ]
    }
   ],
   "source": [
    "tst = tsv2matrix('cmu/user_info.test',  filenc='latin-1', elemtype=str)\n",
    "dev = tsv2matrix('cmu/user_info.dev',   filenc='latin-1', elemtype=str)\n",
    "trn = tsv2matrix('cmu/user_info.train', filenc='latin-1', elemtype=str)\n",
    "whole = tst + dev + trn\n",
    "print(\"len tst:  \", len(tst))\n",
    "print(\"len dev:  \", len(dev))\n",
    "print(\"len trn:  \", len(trn))\n",
    "print(\"len whole:\", len(whole))\n",
    "print()\n",
    "for elem in trn[0]: print(elem[:300]) # four fields: user_id, lat, lon, text"
   ]
  },
  {
   "cell_type": "markdown",
   "metadata": {},
   "source": [
    "## Extracting coordinates and texts"
   ]
  },
  {
   "cell_type": "code",
   "execution_count": 4,
   "metadata": {},
   "outputs": [
    {
     "name": "stdout",
     "output_type": "stream",
     "text": [
      "len texts:     9475\n",
      "len coords:    9475\n",
      "len coord_set: 6721\n",
      "coords: [(41.9, -87.66), (40.81, -73.95), (39.67, -79.85)]\n"
     ]
    }
   ],
   "source": [
    "decimals = 2\n",
    "texts      = [row[3] for row in whole]\n",
    "coords     = [(round(float(row[1]), decimals), round(float(row[2]), decimals)) for row in whole]\n",
    "set_coords = set(coords)\n",
    "print(\"len texts:    \", len(texts))\n",
    "print(\"len coords:   \", len(coords))\n",
    "print(\"len coord_set:\", len(set_coords))\n",
    "print(\"coords:\", coords[:3])"
   ]
  },
  {
   "cell_type": "markdown",
   "metadata": {},
   "source": [
    "## Clustering the coordinates\n",
    "__Warning__: with big data sets, this function might take long time!\n",
    "You might consider a *for* loop rather than the *while*."
   ]
  },
  {
   "cell_type": "code",
   "execution_count": 5,
   "metadata": {
    "scrolled": false
   },
   "outputs": [
    {
     "name": "stdout",
     "output_type": "stream",
     "text": [
      "epoch 1\n",
      "nr clusters: 6721\n",
      "removing duplicates:\n",
      "nr clusters: 3207\n",
      "removing subsets of greater sets:\n",
      "..... 1000\n",
      "..... 2000\n",
      "..... 3000\n",
      "nr clusters: 999\n",
      "calculating custers centroid\n",
      "assigning points to the closest cluster\n",
      "nr clusters: 739 \n",
      "\n",
      "epoch 2\n",
      "nr clusters: 739\n",
      "removing duplicates:\n",
      "nr clusters: 426\n",
      "removing subsets of greater sets:\n",
      "nr clusters: 239\n",
      "calculating custers centroid\n",
      "assigning points to the closest cluster\n",
      "nr clusters: 237 \n",
      "\n",
      "epoch 3\n",
      "nr clusters: 237\n",
      "removing duplicates:\n",
      "nr clusters: 195\n",
      "removing subsets of greater sets:\n",
      "nr clusters: 162\n",
      "calculating custers centroid\n",
      "assigning points to the closest cluster\n",
      "nr clusters: 161 \n",
      "\n",
      "epoch 4\n",
      "nr clusters: 161\n",
      "removing duplicates:\n",
      "nr clusters: 155\n",
      "removing subsets of greater sets:\n",
      "nr clusters: 142\n",
      "calculating custers centroid\n",
      "assigning points to the closest cluster\n",
      "nr clusters: 142 \n",
      "\n",
      "epoch 5\n",
      "nr clusters: 142\n",
      "removing duplicates:\n",
      "nr clusters: 138\n",
      "removing subsets of greater sets:\n",
      "nr clusters: 138\n",
      "calculating custers centroid\n",
      "assigning points to the closest cluster\n",
      "nr clusters: 138 \n",
      "\n",
      "epoch 6\n",
      "nr clusters: 138\n",
      "removing duplicates:\n",
      "nr clusters: 138\n",
      "removing subsets of greater sets:\n",
      "nr clusters: 138\n",
      "calculating custers centroid\n",
      "assigning points to the closest cluster\n",
      "nr clusters: 138 \n",
      "\n"
     ]
    },
    {
     "data": {
      "text/plain": [
       "1"
      ]
     },
     "execution_count": 5,
     "metadata": {},
     "output_type": "execute_result"
    }
   ],
   "source": [
    "# from collections import defaultdict\n",
    "# from scipy import spatial\n",
    "# from copy import deepcopy\n",
    "# import numpy as np\n",
    "# import time, sys\n",
    "\n",
    "# def distance(p0, p1):\n",
    "#     return np.sqrt((p0[0] - p1[0])**2 + (p0[1] - p1[1])**2)\n",
    "\n",
    "# def clustering(coordinates, max_distance):\n",
    "#     point2instances = defaultdict(set)\n",
    "#     for i, latlon in enumerate(coordinates): point2instances[latlon].add(i)\n",
    "    \n",
    "#     epoch = 0\n",
    "#     nr_clusters_begin = -1\n",
    "#     nr_clusters_end = -2\n",
    "#     points = list(point2instances.keys())\n",
    "#     while nr_clusters_begin != nr_clusters_end:\n",
    "#         epoch += 1\n",
    "#         print(\"epoch\",  epoch)\n",
    "#         tree = spatial.KDTree(points)\n",
    "#         clusters_1 = tree.query_ball_tree(tree, max_distance)\n",
    "#         nr_clusters_begin = len(clusters_1)\n",
    "#         print(\"nr clusters:\", len(clusters_1))\n",
    "        \n",
    "#         # removing duplicates:\n",
    "#         clusters_2 = set(tuple(cluster) for cluster in clusters_1)\n",
    "#         print(\"removing duplicates:\\nnr clusters:\", len(clusters_2))\n",
    "        \n",
    "#         # removing subsets of greater sets:\n",
    "#         print(\"removing subsets of greater sets:\")\n",
    "#         cluster_3 = deepcopy(clusters_2)\n",
    "#         for i, tup_out in enumerate(clusters_2):\n",
    "#             if (i+1) % 1000 == 0: print('.....', i+1)\n",
    "#             for tup_in in clusters_2:\n",
    "#                 if tup_out != tup_in and set(tup_out).issubset(set(tup_in)):\n",
    "#                     cluster_3.remove(tup_out)\n",
    "#                     break\n",
    "#         print(\"nr clusters:\", len(cluster_3))\n",
    "    \n",
    "#         print(\"calculating custers centroid\")\n",
    "#         ipoint2icluster2dist = defaultdict(dict)\n",
    "#         icluster2centroid = dict()\n",
    "#         for icluster, cluster in enumerate(cluster_3):\n",
    "#             lats = [points[ipoint][0] for ipoint in cluster]\n",
    "#             lons = [points[ipoint][1] for ipoint in cluster]\n",
    "#             centroid = (np.mean(lats), np.mean(lons))\n",
    "#             icluster2centroid[icluster] = centroid\n",
    "#             for ipoint in cluster:\n",
    "#                 point = points[ipoint]\n",
    "#                 dist = distance(point, centroid)\n",
    "#                 ipoint2icluster2dist[ipoint][icluster] = dist\n",
    "    \n",
    "#         print(\"assigning points to the closest cluster\")\n",
    "#         # {point_index: {cluster_index: distance_point_centroid}} -> {point_index: closest_cluster_index}\n",
    "#         ipoint2icluster = {ipoint: min(ipoint2icluster2dist[ipoint], key=ipoint2icluster2dist[ipoint].get) for ipoint in ipoint2icluster2dist}\n",
    "#         # {point_index: closest_cluster_index} -> {cluster_index: {point_index}}\n",
    "#         icluster2ipoints = defaultdict(set)\n",
    "#         for ipoint in ipoint2icluster: icluster2ipoints[ipoint2icluster[ipoint]].add(ipoint)\n",
    "#         # {cluster_index: {point_index}} -> {centroid: {point}}\n",
    "#         centroid2points = defaultdict(set)\n",
    "#         for icluster in icluster2ipoints: centroid2points[icluster2centroid[icluster]] = set(points[ipoint] for ipoint in icluster2ipoints[icluster])\n",
    "#         # {centroid: {point}} -> {centroid: {instance}}\n",
    "#         centroid2instances = defaultdict(set)\n",
    "#         for centroid in centroid2points: \n",
    "#             for point in centroid2points[centroid]:\n",
    "#                 centroid2instances[centroid].update(point2instances[point])\n",
    "#         # updating variables\n",
    "#         point2instances = centroid2instances\n",
    "#         points = list(point2instances.keys())\n",
    "#         nr_clusters_end = len(point2instances)\n",
    "#         print(\"nr clusters:\", len(point2instances), \"\\n\")\n",
    "     \n",
    "# #     print('-----')\n",
    "# #     nrinst = 0\n",
    "# #     for i, point in enumerate(point2instances): \n",
    "# #         nrinst += len(point2instances[point])\n",
    "# #         print(point, len(point2instances[point]))\n",
    "# #     print(len(point2instances), nrinst)\n",
    "#     return point2instances\n",
    "\n",
    "# max_dist = 1\n",
    "# point2insts = clustering(coords, max_dist)\n",
    "# writebin(point2insts, 'point2insts.bin')"
   ]
  },
  {
   "cell_type": "code",
   "execution_count": null,
   "metadata": {},
   "outputs": [],
   "source": [
    "point2insts = readbin('point2insts.bin')"
   ]
  },
  {
   "cell_type": "markdown",
   "metadata": {},
   "source": [
    "## Defining Y"
   ]
  },
  {
   "cell_type": "code",
   "execution_count": 6,
   "metadata": {
    "scrolled": false
   },
   "outputs": [
    {
     "name": "stdout",
     "output_type": "stream",
     "text": [
      "len Y: 9475\n",
      "nr labels: 138\n",
      "\n",
      "transformation header:\n",
      "Original coordinates: (41.9, -87.66)\tlabel: (42.21, -88.0)\n",
      "Original coordinates: (40.81, -73.95)\tlabel: (40.37, -74.59)\n",
      "Original coordinates: (39.67, -79.85)\tlabel: (40.7, -80.38)\n",
      "Original coordinates: (40.63, -73.93)\tlabel: (40.37, -74.59)\n",
      "Original coordinates: (26.24, -80.16)\tlabel: (26.56, -80.26)\n",
      "\n",
      "one hot header:\n"
     ]
    },
    {
     "data": {
      "text/plain": [
       "1"
      ]
     },
     "execution_count": 6,
     "metadata": {},
     "output_type": "execute_result"
    }
   ],
   "source": [
    "# from sklearn.preprocessing import OneHotEncoder\n",
    "# # {point: {instance}} -> {instance: point}\n",
    "# inst2point = {inst: point for point in point2insts for inst in point2insts[point]}\n",
    "# # {instance: point} -> [rounded_point]\n",
    "# Y = [(round(inst2point[inst][0], decimals),  round(inst2point[inst][1], decimals)) for inst in range(len(coords))]\n",
    "# nr_labels = len(set(Y))\n",
    "# print(\"len Y:\", len(Y))\n",
    "# print(\"nr labels:\", len(set(Y)))\n",
    "# print(\"\\ntransformation header:\")\n",
    "# for i in range(5):\n",
    "#     print(\"Original coordinates: {}\\tlabel: {}\".format(coords[i], Y[i]))\n",
    "\n",
    "# # [rounded_point] -> [integer]\n",
    "# label2int = {label: index for index, label in enumerate(set(Y))}\n",
    "# Y_int = [label2int[label] for label in Y]\n",
    "    \n",
    "# def hotencode(labels):\n",
    "#     labels = np.reshape(labels, (len(labels), 1)) # row to col\n",
    "#     hotencoder = OneHotEncoder(categories='auto')\n",
    "# #     hotencoder = OneHotEncoder()\n",
    "#     onehot = hotencoder.fit_transform(labels)\n",
    "#     return onehot\n",
    "\n",
    "# # [integer] -> [[one_hot]]\n",
    "# Y_hot = hotencode(Y_int)\n",
    "# print(\"\\none hot header:\")\n",
    "# Y_hot.toarray()[:2], Y_int[:2]\n",
    "# writebin(Y_hot, 'Y_hot.bin')"
   ]
  },
  {
   "cell_type": "code",
   "execution_count": null,
   "metadata": {},
   "outputs": [],
   "source": [
    "Y_hot = readbin('Y_hot.bin')"
   ]
  },
  {
   "cell_type": "markdown",
   "metadata": {},
   "source": [
    "## Text preprocessing\n",
    "Converting each text (string) to a list of lemmas"
   ]
  },
  {
   "cell_type": "code",
   "execution_count": 7,
   "metadata": {},
   "outputs": [
    {
     "data": {
      "text/plain": [
       "1"
      ]
     },
     "execution_count": 7,
     "metadata": {},
     "output_type": "execute_result"
    }
   ],
   "source": [
    "# from nltk.stem import WordNetLemmatizer\n",
    "# from nltk.corpus import stopwords\n",
    "# lemmatizer = WordNetLemmatizer()\n",
    "# stop_words = set(stopwords.words('english'))\n",
    "# stop_words = stop_words.union(('ain', 'don', 'dont', 've', 'll', 'got', 'im', 'like', 'rt', 'lt'))\n",
    "# empty = 0\n",
    "# wordtexts = list()\n",
    "# #no_letters_count = 0\n",
    "# for i, text in enumerate(texts):\n",
    "#     text = text.lower()  # to lower case\n",
    "#     text = re.sub(\"\\|\\|\\|\", '', text)  # removing tweets separation\n",
    "#     text = re.sub(\"[\\\"\\{\\}\\[\\]\\,\\$\\%\\^\\&\\*\\_\\<\\>\\/\\:\\=\\+\\'\\u201C\\u201D]+\", '', text) # removing useless characters \n",
    "#     text = re.sub(\"(http)([a-zA-Z0-9\\.\\,\\;\\:\\?\\!\\(\\)\\-])*\", '', text)  # removing urls\n",
    "#     text = re.sub(\"[0-9]+\", '', text)  # numbers to 0\n",
    "#     text = re.sub(\"([\\.\\;\\:\\?\\!\\(\\)\\-]{2,})\", r' \\1 ', text) # isolating punctuation blocks >=2\n",
    "#     text = re.sub(\"[\\.\\;\\:\\?\\!\\(\\)\\-$]{1}\", ' ', text) # removing final punctuation marks\n",
    "#     text = re.sub(\" [a-z0-9\\@\\#\\.\\;\\:\\?\\!\\(\\)\\-]{1} \", ' ', text)  # removing single signs\n",
    "#     text = re.sub(\"[ \\t\\r\\n]+\", ' ', text)  # spaces to single space\n",
    "#     text = re.sub(\"^ \", \"\", text)  # get rid of the initial space\n",
    "#     text = re.sub(\" $\", \"\", text)  # get rid of the final space\n",
    "#     words = text.split(' ')\n",
    "#     nltk_lemmas = [lemmatizer.lemmatize(w, pos='v') for w in words if w not in stop_words]\n",
    "#     if not nltk_lemmas:\n",
    "#         empty += 1\n",
    "#         print(i, \"empty\", text[:50])\n",
    "#     wordtexts.append(nltk_lemmas)\n",
    "# writebin(wordtexts, 'wordtexts.bin')"
   ]
  },
  {
   "cell_type": "code",
   "execution_count": null,
   "metadata": {},
   "outputs": [],
   "source": [
    "wordtexts = readbin('wordtexts.bin')"
   ]
  },
  {
   "cell_type": "markdown",
   "metadata": {},
   "source": [
    "Counting frequencies and defining the vocabulary"
   ]
  },
  {
   "cell_type": "code",
   "execution_count": 8,
   "metadata": {},
   "outputs": [
    {
     "name": "stdout",
     "output_type": "stream",
     "text": [
      "vocabulary size: 25591\n"
     ]
    },
    {
     "data": {
      "text/plain": [
       "[('lol', 62184),\n",
       " ('go', 23644),\n",
       " ('get', 22795),\n",
       " ('good', 14732),\n",
       " ('lmao', 13405)]"
      ]
     },
     "execution_count": 8,
     "metadata": {},
     "output_type": "execute_result"
    }
   ],
   "source": [
    "# from collections import Counter\n",
    "# minfreq = 5\n",
    "# freq = Counter([w for row in wordtexts for w in row])\n",
    "# vocabulary = {word for word in freq if freq[word] >= minfreq}\n",
    "# sel_wordtexts = [[word for word in row if word in vocabulary] for row in wordtexts]\n",
    "# writebin(sel_wordtexts, 'sel_wordtexts.bin')\n",
    "# print(\"vocabulary size:\", len(vocabulary))\n",
    "# freq.most_common(5)"
   ]
  },
  {
   "cell_type": "code",
   "execution_count": null,
   "metadata": {},
   "outputs": [],
   "source": [
    "sel_wordtexts = readbin('sel_wordtexts.bin')"
   ]
  },
  {
   "cell_type": "markdown",
   "metadata": {},
   "source": [
    "## Word2vec"
   ]
  },
  {
   "cell_type": "code",
   "execution_count": 9,
   "metadata": {},
   "outputs": [
    {
     "data": {
      "text/plain": [
       "1"
      ]
     },
     "execution_count": 9,
     "metadata": {},
     "output_type": "execute_result"
    }
   ],
   "source": [
    "# from gensim.models import Word2Vec\n",
    "# model = Word2Vec(sel_wordtexts,\n",
    "#                 size      = 128,   # embedding size\n",
    "#                 window    = 5,     # word window around target\n",
    "#                 sg        = 1,     # 0 = CBOW, 1 = skipgram\n",
    "#                 alpha     = .05,   # initial learning rate\n",
    "#                 min_alpha = .01,   # alpha drop to min_alpha as training progresses\n",
    "#                 iter      = 50,    # number of iterations\n",
    "#                 min_count = 1,     # min frequency for counting words\n",
    "#                 seed      = 7,     # seed for random num generation\n",
    "#                 negative  = 10,    # If > 0, negative sampling will be used, the int for negative specifies how many 'noise words' should be drawn (usually between 5-20).\n",
    "#                 sample    = .0001, # threshold for configuring which higher-frequency words are randomly downsampled, useful range is (0, 1e-5)\n",
    "#                 null_word = 0)     # if 1, it appends the null word to the end of the vocabulary\n",
    "# writebin(model, 'model50.bin')\n"
   ]
  },
  {
   "cell_type": "code",
   "execution_count": null,
   "metadata": {},
   "outputs": [],
   "source": [
    "model = readbin('model50.bin')"
   ]
  },
  {
   "cell_type": "code",
   "execution_count": 10,
   "metadata": {},
   "outputs": [
    {
     "data": {
      "text/plain": [
       "1"
      ]
     },
     "execution_count": 10,
     "metadata": {},
     "output_type": "execute_result"
    }
   ],
   "source": [
    "# embmatrix = model.wv.vectors\n",
    "# word2index = {word: index for index, word in enumerate(model.wv.index2word)}\n",
    "# writebin(embmatrix, 'embmatrix.bin')\n",
    "# writebin(word2index, 'word2index.bin')"
   ]
  },
  {
   "cell_type": "code",
   "execution_count": null,
   "metadata": {},
   "outputs": [],
   "source": [
    "embmatrix = readbin('embmatrix.bin')\n",
    "word2index = readbin('word2index.bin')"
   ]
  },
  {
   "cell_type": "markdown",
   "metadata": {},
   "source": [
    "## Word geographical distribution\n",
    "Building a sparse matrix word for labels"
   ]
  },
  {
   "cell_type": "code",
   "execution_count": 11,
   "metadata": {
    "scrolled": false
   },
   "outputs": [
    {
     "name": "stderr",
     "output_type": "stream",
     "text": [
      "/home/fornaciari/anaconda3/lib/python3.6/site-packages/scipy/sparse/compressed.py:274: SparseEfficiencyWarning: Comparing a sparse matrix with a scalar greater than zero using < is inefficient, try using >= instead.\n",
      "  warn(bad_scalar_msg, SparseEfficiencyWarning)\n"
     ]
    },
    {
     "data": {
      "text/plain": [
       "(25591, 138)"
      ]
     },
     "execution_count": 11,
     "metadata": {},
     "output_type": "execute_result"
    }
   ],
   "source": [
    "# from scipy.sparse import lil_matrix\n",
    "# X_tst = sel_wordtexts[:len(tst)]\n",
    "# X_dev = sel_wordtexts[len(tst):len(dev)]\n",
    "# X_trn = sel_wordtexts[len(tst) + len(dev):]\n",
    "# distribution  = lil_matrix((len(vocabulary), nr_labels), dtype=int)\n",
    "\n",
    "# for irow in range(len(X_trn)):\n",
    "#     for word in set(X_trn[irow]):\n",
    "#         distribution[word2index[word], Y_int[irow]] += 1\n",
    "\n",
    "# mincount = 10\n",
    "# distribution[distribution < mincount] = 0\n",
    "# writebin(distribution, 'distribution.bin')\n",
    "# distribution.shape"
   ]
  },
  {
   "cell_type": "code",
   "execution_count": null,
   "metadata": {},
   "outputs": [],
   "source": [
    "distribution = readbin('distribution.bin')"
   ]
  },
  {
   "cell_type": "markdown",
   "metadata": {},
   "source": [
    "## Word neighbors\n",
    "Linking the words to other words found in the same areas.\n",
    "Steps:\n",
    "- Creating a dictionary mapping each word_index to the areas (label_index) where the word is found;\n",
    "- Creating a dictionary mapping each area (label_index) to the word_indices of the words found in that area;\n",
    "- Creating a dictionary mapping each word to other words appearing in the same places.\n",
    "\n",
    "This might mean to map each word to a whole vocabulary: filtering is necessary!\n"
   ]
  },
  {
   "cell_type": "code",
   "execution_count": 12,
   "metadata": {
    "scrolled": false
   },
   "outputs": [
    {
     "data": {
      "text/plain": [
       "1"
      ]
     },
     "execution_count": 12,
     "metadata": {},
     "output_type": "execute_result"
    }
   ],
   "source": [
    "# # {iword: {ilabel}}\n",
    "# iword2ilabels = {iword: set(np.where(distribution.toarray()[iword] > 0)[0]) for iword in range(distribution.shape[0])}\n",
    "# # {ilabel: {iword}}\n",
    "# distributionT = np.transpose(distribution)\n",
    "# ilabel2iwords = {ilabel: set(np.where(distributionT.toarray()[ilabel] > 0)[0]) for ilabel in range(distributionT.shape[0])}\n",
    "# writebin(iword2ilabels, 'iword2ilabels.bin')\n",
    "# writebin(ilabel2iwords, 'ilabel2iwords.bin')"
   ]
  },
  {
   "cell_type": "code",
   "execution_count": 13,
   "metadata": {},
   "outputs": [],
   "source": [
    "iword2ilabels = readbin('iword2ilabels.bin')\n",
    "ilabel2iwords = readbin('ilabel2iwords.bin')"
   ]
  },
  {
   "cell_type": "code",
   "execution_count": 14,
   "metadata": {
    "scrolled": false
   },
   "outputs": [
    {
     "data": {
      "text/plain": [
       "1"
      ]
     },
     "execution_count": 14,
     "metadata": {},
     "output_type": "execute_result"
    }
   ],
   "source": [
    "# # iword2iwords: alias neighbors\n",
    "# iword2iwords = defaultdict(set)\n",
    "# for iword in range(distribution.shape[0]):\n",
    "#     for ilabel in iword2ilabels[iword]:\n",
    "#         iword2iwords[iword].update(ilabel2iwords[ilabel])\n",
    "#     iword2iwords[iword] = list(iword2iwords[iword]) # retrofitting needs a list\n",
    "# writebin(iword2iwords, 'iword2iwords.bin')"
   ]
  },
  {
   "cell_type": "code",
   "execution_count": 15,
   "metadata": {},
   "outputs": [],
   "source": [
    "iword2iwords = readbin('iword2iwords.bin')"
   ]
  },
  {
   "cell_type": "markdown",
   "metadata": {},
   "source": [
    "## Retrofitting"
   ]
  },
  {
   "cell_type": "code",
   "execution_count": 17,
   "metadata": {},
   "outputs": [],
   "source": [
    "def retrofit(vectors, neighbors, normalize=False, num_iters=10, alfa=0):\n",
    "    \"\"\"\n",
    "    vectors: N by D numpy array\n",
    "    neighbors: {int: [int]}\n",
    "    \"\"\"\n",
    "    N, D = vectors.shape\n",
    "\n",
    "    new_vectors = deepcopy(vectors)\n",
    "\n",
    "    if normalize:\n",
    "        for c in range(N):\n",
    "            vectors[c] /= np.sqrt((vectors[c] ** 2).sum() + 1e-6)\n",
    "\n",
    "    # run retrofitting\n",
    "    print(\"retrofitting\", file=sys.stderr)\n",
    "\n",
    "    for it in range(num_iters):\n",
    "        print(\"\\t{}:\".format(it + 1), end=' ', file=sys.stderr)\n",
    "        # loop through every vector\n",
    "        for c in range(N):\n",
    "            if c > 0:\n",
    "                if c % 1000 == 0:\n",
    "                    print(c, end='', file=sys.stderr)\n",
    "                elif c % 100 == 0:\n",
    "                    print(\".\", end='', file=sys.stderr)\n",
    "            instance_neighbours = neighbors.get(c)\n",
    "            if instance_neighbours is None:\n",
    "                continue\n",
    "            num_neighbours = len(instance_neighbours)\n",
    "            # no neighbours, pass - use data estimate\n",
    "            if num_neighbours == 0:\n",
    "                continue\n",
    "\n",
    "            beta = 1 - alfa\n",
    "\n",
    "            # the weight of the original data estimate is \n",
    "            # the number of neighbours, \n",
    "            # plus the sum of all neighboring vectors, \n",
    "            # normalized by twice the number of neighbors\n",
    "            if alfa == 0:\n",
    "                new_vectors[c] = ((num_neighbours * vectors[c]) + new_vectors[instance_neighbours].sum(axis=0)) / (\n",
    "                            2 * num_neighbours)\n",
    "            else:\n",
    "                # new_vectors[c] = ((beta * (num_neighbours * vectors[c])) + (alfa * new_vectors[instance_neighbours].sum(axis=0))) / (2 * num_neighbours)\n",
    "                new_vectors[c] = ((beta * (num_neighbours * vectors[c])) + (\n",
    "                            alfa * new_vectors[instance_neighbours].sum(axis=0))) / (\n",
    "                                             beta * num_neighbours + alfa * num_neighbours)\n",
    "\n",
    "        print('', file=sys.stderr)\n",
    "    return new_vectors\n"
   ]
  },
  {
   "cell_type": "code",
   "execution_count": 49,
   "metadata": {},
   "outputs": [
    {
     "name": "stderr",
     "output_type": "stream",
     "text": [
      "retrofitting\n",
      "\t1: .........1000.........2000.........3000.........4000.........5000.........6000.........7000.........8000.........9000.........10000.........11000.........12000.........13000.........14000.........15000.........16000.........17000.........18000.........19000.........20000.........21000.........22000.........23000.........24000.........25000.....\n",
      "\t2: .........1000.........2000.........3000.........4000.........5000.........6000.........7000.........8000.........9000.........10000.........11000.........12000.........13000.........14000.........15000.........16000.........17000.........18000.........19000.........20000.........21000.........22000.........23000.........24000.........25000.....\n",
      "\t3: .........1000.........2000.........3000.........4000.........5000.........6000.........7000.........8000.........9000.........10000.........11000.........12000.........13000.........14000.........15000.........16000.........17000.........18000.........19000.........20000.........21000.........22000.........23000.........24000.........25000.....\n",
      "\t4: .........1000.........2000.........3000.........4000.........5000.........6000.........7000.........8000.........9000.........10000.........11000.........12000.........13000.........14000.........15000.........16000.........17000.........18000.........19000.........20000.........21000.........22000.........23000.........24000.........25000.....\n",
      "\t5: .........1000.........2000.........3000.........4000.........5000.........6000.........7000.........8000.........9000.........10000.........11000.........12000.........13000.........14000.........15000.........16000.........17000.........18000.........19000.........20000.........21000.........22000.........23000.........24000.........25000.....\n",
      "\t6: .........1000.........2000.........3000.........4000.........5000.........6000.........7000.........8000.........9000.........10000.........11000.........12000.........13000.........14000.........15000.........16000.........17000.........18000.........19000.........20000.........21000.........22000.........23000.........24000.........25000.....\n",
      "\t7: .........1000.........2000.........3000.........4000.........5000.........6000.........7000.........8000.........9000.........10000.........11000.........12000.........13000.........14000.........15000.........16000.........17000.........18000.........19000.........20000.........21000.........22000.........23000.........24000.........25000.....\n",
      "\t8: .........1000.........2000.........3000.........4000.........5000.........6000.........7000.........8000.........9000.........10000.........11000.........12000.........13000.........14000.........15000.........16000.........17000.........18000.........19000.........20000.........21000.........22000.........23000.........24000.........25000.....\n",
      "\t9: .........1000.........2000.........3000.........4000.........5000.........6000.........7000.........8000.........9000.........10000.........11000.........12000.........13000.........14000.........15000.........16000.........17000.........18000.........19000.........20000.........21000.........22000.........23000.........24000.........25000.....\n",
      "\t10: .........1000.........2000.........3000.........4000.........5000.........6000.........7000.........8000.........9000.........10000.........11000.........12000.........13000.........14000.........15000.........16000.........17000.........18000.........19000.........20000.........21000.........22000.........23000.........24000.........25000.....\n"
     ]
    },
    {
     "data": {
      "text/plain": [
       "((25591, 128), (25591, 128))"
      ]
     },
     "execution_count": 49,
     "metadata": {},
     "output_type": "execute_result"
    }
   ],
   "source": [
    "alpha = .99\n",
    "iters = 10\n",
    "retromatrix = retrofit(embmatrix, iword2iwords, num_iters=iters, alfa=alpha)\n",
    "writebin(retromatrix, 'retromatrix10a099.bin')\n",
    "retromatrix.shape, embmatrix.shape"
   ]
  },
  {
   "cell_type": "code",
   "execution_count": 50,
   "metadata": {},
   "outputs": [],
   "source": [
    "retromatrix = readbin('retromatrix10a099.bin')"
   ]
  },
  {
   "cell_type": "code",
   "execution_count": 86,
   "metadata": {
    "scrolled": false
   },
   "outputs": [
    {
     "data": {
      "text/html": [
       "<div>\n",
       "<style scoped>\n",
       "    .dataframe tbody tr th:only-of-type {\n",
       "        vertical-align: middle;\n",
       "    }\n",
       "\n",
       "    .dataframe tbody tr th {\n",
       "        vertical-align: top;\n",
       "    }\n",
       "\n",
       "    .dataframe thead th {\n",
       "        text-align: right;\n",
       "    }\n",
       "</style>\n",
       "<table border=\"1\" class=\"dataframe\">\n",
       "  <thead>\n",
       "    <tr style=\"text-align: right;\">\n",
       "      <th></th>\n",
       "      <th>x</th>\n",
       "      <th>y</th>\n",
       "    </tr>\n",
       "  </thead>\n",
       "  <tbody>\n",
       "    <tr>\n",
       "      <th>lol</th>\n",
       "      <td>-0.558463</td>\n",
       "      <td>-0.249495</td>\n",
       "    </tr>\n",
       "    <tr>\n",
       "      <th>go</th>\n",
       "      <td>0.492196</td>\n",
       "      <td>-0.038881</td>\n",
       "    </tr>\n",
       "    <tr>\n",
       "      <th>get</th>\n",
       "      <td>0.076164</td>\n",
       "      <td>0.134390</td>\n",
       "    </tr>\n",
       "    <tr>\n",
       "      <th>good</th>\n",
       "      <td>0.525528</td>\n",
       "      <td>0.907114</td>\n",
       "    </tr>\n",
       "    <tr>\n",
       "      <th>lmao</th>\n",
       "      <td>-0.815198</td>\n",
       "      <td>-0.265117</td>\n",
       "    </tr>\n",
       "  </tbody>\n",
       "</table>\n",
       "</div>"
      ],
      "text/plain": [
       "             x         y\n",
       "lol  -0.558463 -0.249495\n",
       "go    0.492196 -0.038881\n",
       "get   0.076164  0.134390\n",
       "good  0.525528  0.907114\n",
       "lmao -0.815198 -0.265117"
      ]
     },
     "metadata": {},
     "output_type": "display_data"
    },
    {
     "data": {
      "text/plain": [
       "(10, 2)"
      ]
     },
     "metadata": {},
     "output_type": "display_data"
    },
    {
     "data": {
      "image/png": "[encoded data removed]",
      "text/plain": [
       "<Figure size 800x800 with 1 Axes>"
      ]
     },
     "metadata": {
      "needs_background": "light"
     },
     "output_type": "display_data"
    },
    {
     "data": {
      "text/html": [
       "<div>\n",
       "<style scoped>\n",
       "    .dataframe tbody tr th:only-of-type {\n",
       "        vertical-align: middle;\n",
       "    }\n",
       "\n",
       "    .dataframe tbody tr th {\n",
       "        vertical-align: top;\n",
       "    }\n",
       "\n",
       "    .dataframe thead th {\n",
       "        text-align: right;\n",
       "    }\n",
       "</style>\n",
       "<table border=\"1\" class=\"dataframe\">\n",
       "  <thead>\n",
       "    <tr style=\"text-align: right;\">\n",
       "      <th></th>\n",
       "      <th>x</th>\n",
       "      <th>y</th>\n",
       "    </tr>\n",
       "  </thead>\n",
       "  <tbody>\n",
       "    <tr>\n",
       "      <th>lol</th>\n",
       "      <td>-0.005584</td>\n",
       "      <td>-0.002494</td>\n",
       "    </tr>\n",
       "    <tr>\n",
       "      <th>go</th>\n",
       "      <td>0.004922</td>\n",
       "      <td>-0.000388</td>\n",
       "    </tr>\n",
       "    <tr>\n",
       "      <th>get</th>\n",
       "      <td>0.000762</td>\n",
       "      <td>0.001345</td>\n",
       "    </tr>\n",
       "    <tr>\n",
       "      <th>good</th>\n",
       "      <td>0.005255</td>\n",
       "      <td>0.009072</td>\n",
       "    </tr>\n",
       "    <tr>\n",
       "      <th>lmao</th>\n",
       "      <td>-0.008152</td>\n",
       "      <td>-0.002651</td>\n",
       "    </tr>\n",
       "  </tbody>\n",
       "</table>\n",
       "</div>"
      ],
      "text/plain": [
       "             x         y\n",
       "lol  -0.005584 -0.002494\n",
       "go    0.004922 -0.000388\n",
       "get   0.000762  0.001345\n",
       "good  0.005255  0.009072\n",
       "lmao -0.008152 -0.002651"
      ]
     },
     "metadata": {},
     "output_type": "display_data"
    },
    {
     "data": {
      "text/plain": [
       "(10, 2)"
      ]
     },
     "metadata": {},
     "output_type": "display_data"
    },
    {
     "data": {
      "image/png": "[encoded data removed]",
      "text/plain": [
       "<Figure size 800x800 with 1 Axes>"
      ]
     },
     "metadata": {
      "needs_background": "light"
     },
     "output_type": "display_data"
    },
    {
     "data": {
      "text/plain": [
       "1"
      ]
     },
     "execution_count": 86,
     "metadata": {},
     "output_type": "execute_result"
    }
   ],
   "source": [
    "from sklearn.decomposition import PCA\n",
    "import matplotlib.pyplot as plt\n",
    "import pandas as pd\n",
    "\n",
    "def go_pca(embs, words):\n",
    "    cols = ['x','y']\n",
    "    pca = PCA(n_components=2)\n",
    "    pca.fit(embs)\n",
    "    pca_points = pca.transform(embs)\n",
    "    df = pd.DataFrame(pca_points, index=words, columns=cols)\n",
    "    \n",
    "    display(df.head())\n",
    "    display(df.shape)\n",
    "\n",
    "    fig = plt.figure(figsize=(4, 4), dpi=200)\n",
    "    point_size = 40\n",
    "    text_point_size = 7\n",
    "    hor_align = 'left'\n",
    "    ver_align = 'top'\n",
    "    \n",
    "    ax = fig.gca()\n",
    "    ax.set_title('embeddings', fontsize = 15)\n",
    "    ax.set_xlabel('x', fontsize = 15)\n",
    "    ax.set_ylabel('y', fontsize = 15)\n",
    "    for i, word in enumerate(words):\n",
    "        ax.scatter(df['x'], df['y'], label=words, s=point_size)\n",
    "        ax.text(df['x'][i], df['y'][i], s =word, fontsize=text_point_size)\n",
    "    ax.grid()\n",
    "#     plt.savefig('pca.pdf')\n",
    "    plt.show()\n",
    "    return 1    \n",
    "    \n",
    "go_pca(embmatrix[iword2iwords[0][:10]], np.array(model.wv.index2word)[iword2iwords[0][:10]])  \n",
    "go_pca(retromatrix[iword2iwords[0][:10]], np.array(model.wv.index2word)[iword2iwords[0][:10]])  "
   ]
  },
  {
   "cell_type": "code",
   "execution_count": null,
   "metadata": {},
   "outputs": [],
   "source": [
    "\n"
   ]
  },
  {
   "cell_type": "code",
   "execution_count": null,
   "metadata": {},
   "outputs": [],
   "source": []
  }
 ],
 "metadata": {
  "kernelspec": {
   "display_name": "Python 3",
   "language": "python",
   "name": "python3"
  },
  "language_info": {
   "codemirror_mode": {
    "name": "ipython",
    "version": 3
   },
   "file_extension": ".py",
   "mimetype": "text/x-python",
   "name": "python",
   "nbconvert_exporter": "python",
   "pygments_lexer": "ipython3",
   "version": "3.6.7"
  }
 },
 "nbformat": 4,
 "nbformat_minor": 2
}
