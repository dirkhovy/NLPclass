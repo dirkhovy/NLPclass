{
 "cells": [
  {
   "cell_type": "markdown",
   "metadata": {},
   "source": [
    "# Language Models\n",
    "\n",
    "Let's start with a simple, Laplace-smoothed trigram model:"
   ]
  },
  {
   "cell_type": "code",
   "execution_count": 82,
   "metadata": {},
   "outputs": [],
   "source": [
    "from collections import defaultdict\n",
    "import numpy as np\n",
    "import nltk\n",
    "\n",
    "smoothing = 0.001\n",
    "counts = defaultdict(lambda: defaultdict(lambda: smoothing))\n",
    "\n",
    "corpus = [line.strip().split() for line in open('../data/moby_dick.txt')]\n",
    "\n",
    "for sentence in corpus:\n",
    "    tokens = ['*', '*'] + sentence + ['STOP']\n",
    "    for u, v, w in nltk.ngrams(tokens, 3):\n",
    "        counts[(u, v)][w] += 1\n",
    "\n",
    "def logP(u, v, w):\n",
    "    return np.log(counts[(u, v)][w]) - np.log(sum(counts[(u, v)].values()))\n",
    "\n",
    "def sentence_logP(S):\n",
    "    tokens = ['*', '*'] + S + ['STOP']\n",
    "    return sum([logP(u, v, w) for u, v, w in nltk.ngrams(tokens, 3)])"
   ]
  },
  {
   "cell_type": "markdown",
   "metadata": {},
   "source": [
    "We can now score arbitrary sentences:"
   ]
  },
  {
   "cell_type": "code",
   "execution_count": 85,
   "metadata": {},
   "outputs": [
    {
     "data": {
      "text/plain": [
       "-29.31730693419735"
      ]
     },
     "execution_count": 85,
     "metadata": {},
     "output_type": "execute_result"
    }
   ],
   "source": [
    "sentence_logP('Captain Ahab is a white whale .'.split())"
   ]
  },
  {
   "cell_type": "markdown",
   "metadata": {},
   "source": [
    "## Generation\n",
    "\n",
    "We can re-use the counts to generate language:"
   ]
  },
  {
   "cell_type": "code",
   "execution_count": 29,
   "metadata": {},
   "outputs": [],
   "source": [
    "def sample_next_word(u, v):\n",
    "    keys, values = zip(*counts[(u, v)].items())\n",
    "    values = np.array(values)\n",
    "    values /= values.sum() # create probability distro\n",
    "    sample = np.random.multinomial(1, values) # pick one position\n",
    "    return keys[np.argmax(sample)]\n",
    "\n",
    "def generate():\n",
    "    result = ['*', '*']\n",
    "    next_word = sample_next_word(result[-2], result[-1])\n",
    "    result.append(next_word)\n",
    "    while next_word != 'STOP':\n",
    "        next_word = sample_next_word(result[-2], result[-1])\n",
    "        result.append(next_word)\n",
    "\n",
    "    return ' '.join(result[2:-1])"
   ]
  },
  {
   "cell_type": "code",
   "execution_count": 92,
   "metadata": {},
   "outputs": [
    {
     "data": {
      "text/plain": [
       "{'a': 1, 'b': 2, 'c': 3}"
      ]
     },
     "execution_count": 92,
     "metadata": {},
     "output_type": "execute_result"
    }
   ],
   "source": [
    "l1 = list('abc')\n",
    "l2 = [1,2,3,4,5,6]\n",
    "\n",
    "l3 = dict(zip(l1, l2))\n",
    "l3"
   ]
  },
  {
   "cell_type": "code",
   "execution_count": 96,
   "metadata": {},
   "outputs": [
    {
     "data": {
      "text/plain": [
       "('a', 'b', 'c')"
      ]
     },
     "execution_count": 96,
     "metadata": {},
     "output_type": "execute_result"
    }
   ],
   "source": [
    "a, b = zip(*l3.items())\n",
    "a"
   ]
  },
  {
   "cell_type": "code",
   "execution_count": 122,
   "metadata": {},
   "outputs": [
    {
     "name": "stdout",
     "output_type": "stream",
     "text": [
      "[1 2 3]\n",
      "[0.16666667 0.33333333 0.5       ]\n",
      "[0 0 1]\n",
      "2\n"
     ]
    },
    {
     "data": {
      "text/plain": [
       "'c'"
      ]
     },
     "execution_count": 122,
     "metadata": {},
     "output_type": "execute_result"
    }
   ],
   "source": [
    "keys, values = zip(*l3.items())\n",
    "values = np.array(values)\n",
    "print(values)\n",
    "values = values / values.sum()\n",
    "print(values)\n",
    "sample = np.random.multinomial(1, values)\n",
    "print(sample)\n",
    "selection = np.argmax(sample)\n",
    "print(selection)\n",
    "keys[selection]"
   ]
  },
  {
   "cell_type": "code",
   "execution_count": 133,
   "metadata": {},
   "outputs": [
    {
     "data": {
      "text/plain": [
       "('sailor',\n",
       " defaultdict(<function __main__.<lambda>.<locals>.<lambda>()>,\n",
       "             {'passenger': 4.0009999999999994,\n",
       "              'general': 6.0009999999999994,\n",
       "              'Commodore': 1.001,\n",
       "              'simple': 1.001,\n",
       "              'country': 1.001,\n",
       "              'sailor': 3.001,\n",
       "              'merchant': 1.001,\n",
       "              'sort': 3.001,\n",
       "              'looker': 1.001,\n",
       "              'clam': 1.001,\n",
       "              'wash': 1.001,\n",
       "              'particular': 1.001,\n",
       "              'pike': 1.001,\n",
       "              'pilot': 3.001,\n",
       "              'model': 1.001,\n",
       "              'single': 2.001,\n",
       "              'young': 1.001,\n",
       "              'slave': 1.001,\n",
       "              'substitute': 1.001,\n",
       "              'rather': 2.001,\n",
       "              'candidate': 1.001,\n",
       "              'harpooneer': 1.001,\n",
       "              'head': 2.001,\n",
       "              'journeyman': 1.001,\n",
       "              'whistling': 1.001,\n",
       "              'picked': 1.001,\n",
       "              'giraffe': 1.001,\n",
       "              'set': 1.001,\n",
       "              'street': 1.001,\n",
       "              'permanent': 1.001,\n",
       "              'pile': 1.001,\n",
       "              'frigate': 1.001,\n",
       "              'body': 2.001,\n",
       "              'mower': 1.001,\n",
       "              'god': 1.001,\n",
       "              'tossed': 1.001,\n",
       "              'real': 1.001,\n",
       "              'surveyor': 1.001,\n",
       "              'white': 1.001,\n",
       "              'whaleman': 1.001,\n",
       "              'monstrous': 1.001,\n",
       "              'thimbleful': 1.001,\n",
       "              'sea': 1.001,\n",
       "              'horse': 1.001,\n",
       "              'vessel': 1.001,\n",
       "              'clock': 1.001,\n",
       "              'spice': 1.001,\n",
       "              'mass': 1.001,\n",
       "              'regular': 1.001,\n",
       "              'mule': 1.001,\n",
       "              'cricket': 1.001,\n",
       "              'corpse': 1.001,\n",
       "              'drawing': 1.001,\n",
       "              'Latin': 1.001,\n",
       "              'widow': 1.001,\n",
       "              'material': 1.001,\n",
       "              'golden': 1.001,\n",
       "              'pendulum': 1.001,\n",
       "              'backwoodsman': 1.001,\n",
       "              'flavorish': 1.001,\n",
       "              'Dish': 1.001,\n",
       "              'civilized': 1.001,\n",
       "              'murderer': 1.001,\n",
       "              'traveller': 1.001,\n",
       "              'fly': 1.001,\n",
       "              'green': 1.001,\n",
       "              'dead': 1.001,\n",
       "              'man': 3.001,\n",
       "              'sensible': 1.001,\n",
       "              'solid': 1.001,\n",
       "              'cat': 1.001,\n",
       "              'ripple': 1.001,\n",
       "              'small': 1.001,\n",
       "              'harpoon': 1.001,\n",
       "              'lion': 1.001,\n",
       "              'dragon': 1.001,\n",
       "              'signal': 1.001,\n",
       "              'dromedary': 1.001,\n",
       "              'Roman': 1.001,\n",
       "              'fin': 1.001,\n",
       "              'mace': 1.001,\n",
       "              'whole': 1.001,\n",
       "              'solitary': 1.001,\n",
       "              'conceited': 1.001,\n",
       "              'species': 1.001,\n",
       "              'means': 1.001,\n",
       "              'bat': 1.001,\n",
       "              'cook': 1.001,\n",
       "              'weaver': 1.001,\n",
       "              'geologist': 1.001,\n",
       "              'modern': 1.001,\n",
       "              'new': 1.001,\n",
       "              'tender': 1.001,\n",
       "              'dinnerless': 1.001,\n",
       "              'birch': 1.001,\n",
       "              'swashing': 1.001,\n",
       "              'crucible': 1.001,\n",
       "              'portent': 1.001,\n",
       "              'foreshadowing': 1.001,\n",
       "              'coffin': 1.001,\n",
       "              'sagacious': 1.001,\n",
       "              'mildly': 1.001,\n",
       "              'miller': 1.001}))"
      ]
     },
     "execution_count": 133,
     "metadata": {},
     "output_type": "execute_result"
    }
   ],
   "source": [
    "sample_next_word('as', 'a'), counts[('as', 'a')]"
   ]
  },
  {
   "cell_type": "markdown",
   "metadata": {},
   "source": [
    "We can now generate non-sensical sentences:"
   ]
  },
  {
   "cell_type": "code",
   "execution_count": 81,
   "metadata": {},
   "outputs": [
    {
     "data": {
      "text/plain": [
       "'For when three days he was so afraid of black eyes that he is never hunted .'"
      ]
     },
     "execution_count": 81,
     "metadata": {},
     "output_type": "execute_result"
    }
   ],
   "source": [
    "generate()"
   ]
  },
  {
   "cell_type": "markdown",
   "metadata": {},
   "source": [
    "## Exercise\n",
    "\n",
    "Extend the code above to arbitray $n$-gram sizes. Use another corpus to try it with $n=4$.\n",
    "\n",
    "It might be helpful to use a `class` for the LM, make the smoothing a parameter, `counts` a class property, and add a function `fit()`."
   ]
  },
  {
   "cell_type": "code",
   "execution_count": 138,
   "metadata": {},
   "outputs": [],
   "source": [
    "# Your code here\n",
    "\n",
    "\n",
    "N = 4\n",
    "START = '*'\n",
    "STOP = 'STOP'\n",
    "counts = defaultdict(lambda: defaultdict(lambda: smoothing))\n",
    "\n",
    "for sentence in corpus:\n",
    "    tokens = [START] * (N-1) + sentence + [STOP]\n",
    "    for ngram in nltk.ngrams(tokens, N):\n",
    "        counts[ngram[:-1]][ngram[-1]] += 1\n",
    "\n",
    "def logP(history, w):\n",
    "    return np.log(counts[history][w]) - np.log(sum(counts[history].values()))\n",
    "\n",
    "def sentence_logP(S):\n",
    "    tokens = [START] * (N-1) + S + [STOP]\n",
    "    return sum([logP(ngram[:-1], ngram[-1]) for ngram in nltk.ngrams(tokens, N)])\n"
   ]
  },
  {
   "cell_type": "code",
   "execution_count": 142,
   "metadata": {},
   "outputs": [
    {
     "data": {
      "text/plain": [
       "-23.822143780660614"
      ]
     },
     "execution_count": 142,
     "metadata": {},
     "output_type": "execute_result"
    }
   ],
   "source": [
    "sentence_logP('Captain Ahab is a white whale .'.split())"
   ]
  },
  {
   "cell_type": "code",
   "execution_count": null,
   "metadata": {},
   "outputs": [],
   "source": []
  }
 ],
 "metadata": {
  "kernelspec": {
   "display_name": "Python 3",
   "language": "python",
   "name": "python3"
  },
  "language_info": {
   "codemirror_mode": {
    "name": "ipython",
    "version": 3
   },
   "file_extension": ".py",
   "mimetype": "text/x-python",
   "name": "python",
   "nbconvert_exporter": "python",
   "pygments_lexer": "ipython3",
   "version": "3.6.6"
  }
 },
 "nbformat": 4,
 "nbformat_minor": 2
}
