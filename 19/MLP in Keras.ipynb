{
 "cells": [
  {
   "cell_type": "markdown",
   "metadata": {
    "slideshow": {
     "slide_type": "slide"
    }
   },
   "source": [
    "# Short intro to Keras"
   ]
  },
  {
   "cell_type": "markdown",
   "metadata": {
    "slideshow": {
     "slide_type": "fragment"
    }
   },
   "source": [
    "Keras is a great Python library and a wrapper for existing neural network packages. It runs with either the `theano` or `tensorflow` backend libraries."
   ]
  },
  {
   "cell_type": "markdown",
   "metadata": {
    "slideshow": {
     "slide_type": "fragment"
    }
   },
   "source": [
    "Keras implements two main approaches:\n",
    "    \n",
    "    * the Sequential model\n",
    "    * the functional API"
   ]
  },
  {
   "cell_type": "markdown",
   "metadata": {
    "slideshow": {
     "slide_type": "fragment"
    }
   },
   "source": [
    "The main type of model is the **Sequential** model, a linear stack of layers. You will only need the functional API for more complex models."
   ]
  },
  {
   "cell_type": "markdown",
   "metadata": {
    "slideshow": {
     "slide_type": "slide"
    }
   },
   "source": [
    "### The Sequential model"
   ]
  },
  {
   "cell_type": "code",
   "execution_count": 2,
   "metadata": {
    "slideshow": {
     "slide_type": "fragment"
    }
   },
   "outputs": [
    {
     "name": "stderr",
     "output_type": "stream",
     "text": [
      "Using TensorFlow backend.\n"
     ]
    }
   ],
   "source": [
    "from keras.models import Sequential\n",
    "\n",
    "model = Sequential()"
   ]
  },
  {
   "cell_type": "markdown",
   "metadata": {
    "slideshow": {
     "slide_type": "fragment"
    }
   },
   "source": [
    "Sequential means that it takes a list of layers. You can add one layer at a time to the model. Here is a simple model:"
   ]
  },
  {
   "cell_type": "code",
   "execution_count": 3,
   "metadata": {
    "slideshow": {
     "slide_type": "fragment"
    }
   },
   "outputs": [
    {
     "name": "stdout",
     "output_type": "stream",
     "text": [
      "WARNING:tensorflow:From /Users/dirkhovy/anaconda3/lib/python3.6/site-packages/tensorflow/python/framework/op_def_library.py:263: colocate_with (from tensorflow.python.framework.ops) is deprecated and will be removed in a future version.\n",
      "Instructions for updating:\n",
      "Colocations handled automatically by placer.\n"
     ]
    }
   ],
   "source": [
    "from keras.layers.core import Dense, Activation\n",
    "\n",
    "model.add(Dense(input_dim=100, units=64))\n",
    "model.add(Activation(\"relu\"))\n",
    "model.add(Dense(units=10))\n",
    "model.add(Activation(\"softmax\"))\n"
   ]
  },
  {
   "cell_type": "markdown",
   "metadata": {
    "slideshow": {
     "slide_type": "fragment"
    }
   },
   "source": [
    "For the first layer you need to specify its dimensions, the remaining layers will infer the size."
   ]
  },
  {
   "cell_type": "markdown",
   "metadata": {
    "slideshow": {
     "slide_type": "slide"
    }
   },
   "source": [
    "Alternative, equivalent formulation:"
   ]
  },
  {
   "cell_type": "code",
   "execution_count": 4,
   "metadata": {
    "slideshow": {
     "slide_type": "fragment"
    }
   },
   "outputs": [],
   "source": [
    "model = Sequential()\n",
    "model.add(Dense(input_dim=100, units=64))\n",
    "model.add(Activation(\"relu\"))\n",
    "model.add(Dense(units=10, activation='softmax'))"
   ]
  },
  {
   "cell_type": "markdown",
   "metadata": {
    "slideshow": {
     "slide_type": "slide"
    }
   },
   "source": [
    "Then you can compile and train the model."
   ]
  },
  {
   "cell_type": "code",
   "execution_count": 5,
   "metadata": {
    "slideshow": {
     "slide_type": "fragment"
    }
   },
   "outputs": [],
   "source": [
    "model.compile(loss='categorical_crossentropy', optimizer=\"sgd\", metrics=['accuracy'])"
   ]
  },
  {
   "cell_type": "markdown",
   "metadata": {
    "slideshow": {
     "slide_type": "slide"
    }
   },
   "source": [
    "A complicated LSTM model is easly created: "
   ]
  },
  {
   "cell_type": "code",
   "execution_count": 6,
   "metadata": {
    "slideshow": {
     "slide_type": "fragment"
    }
   },
   "outputs": [
    {
     "name": "stdout",
     "output_type": "stream",
     "text": [
      "WARNING:tensorflow:From /Users/dirkhovy/anaconda3/lib/python3.6/site-packages/keras/backend/tensorflow_backend.py:3445: calling dropout (from tensorflow.python.ops.nn_ops) with keep_prob is deprecated and will be removed in a future version.\n",
      "Instructions for updating:\n",
      "Please use `rate` instead of `keep_prob`. Rate should be set to `rate = 1 - keep_prob`.\n"
     ]
    }
   ],
   "source": [
    "from keras.layers import Embedding, LSTM, Dropout\n",
    "\n",
    "num_labels=2\n",
    "vocabulary_size=10000\n",
    "model = Sequential()\n",
    "model.add(Embedding(output_dim=128, input_dim=vocabulary_size, input_length=100))\n",
    "model.add(LSTM(units=64, activation='tanh'))\n",
    "model.add(Dropout(rate=0.2))\n",
    "model.add(Dense(num_labels))\n",
    "model.add(Activation('softmax'))"
   ]
  },
  {
   "cell_type": "markdown",
   "metadata": {
    "slideshow": {
     "slide_type": "slide"
    }
   },
   "source": [
    "### Functional API"
   ]
  },
  {
   "cell_type": "markdown",
   "metadata": {
    "slideshow": {
     "slide_type": "fragment"
    }
   },
   "source": [
    "In the functional API each layer is a function and can be applied to another layer."
   ]
  },
  {
   "cell_type": "code",
   "execution_count": 7,
   "metadata": {
    "slideshow": {
     "slide_type": "fragment"
    }
   },
   "outputs": [],
   "source": [
    "from keras.models import Model\n",
    "from keras.layers import Input, Flatten\n",
    "\n",
    "# input: a sequence  of 5 integers, each representing a word (index between 0 and vocab_size).\n",
    "main_input = Input(shape=(5,), dtype='int32', name='main_input')\n",
    "\n",
    "# now the embedding layer will encode the input sequence\n",
    "# into a sequence of dense 128-dimensional vectors.\n",
    "embeds = Embedding(output_dim=128, input_dim=vocabulary_size, input_length=5)(main_input)\n",
    "flatten = Flatten()(embeds) # we flatten it as Dense expects a 2D input\n",
    "dense = Dense(64, activation='tanh')(flatten)\n",
    "\n",
    "# finally the softmax (logistic) output layer\n",
    "main_loss = Dense(num_labels, activation='softmax', name='main_output')(dense)\n",
    "\n",
    "# the model is specified by connecting input and output\n",
    "model = Model(inputs=[main_input], outputs=[main_loss])"
   ]
  },
  {
   "cell_type": "markdown",
   "metadata": {
    "collapsed": true,
    "slideshow": {
     "slide_type": "fragment"
    }
   },
   "source": [
    "With the functional API you can create a lot fun models quickly. "
   ]
  },
  {
   "cell_type": "markdown",
   "metadata": {},
   "source": [
    "# A Multilayer-Perceptron/Feedforward Neural Network"
   ]
  },
  {
   "cell_type": "code",
   "execution_count": 11,
   "metadata": {},
   "outputs": [
    {
     "name": "stdout",
     "output_type": "stream",
     "text": [
      "1800 ['neg' 'pos']\n",
      "(1800, 2000)\n",
      "[0 0 0 1 1 0 1 1 0 0] 1800\n",
      "200 ['pos' 'neg']\n",
      "(200, 2000)\n",
      "[1 0 0 0 1 0 0 1 0 0] 200\n",
      "Convert class vector to binary 1-hot encoding matrix (for use with categorical_crossentropy)\n"
     ]
    }
   ],
   "source": [
    "import pandas as pd\n",
    "from sklearn.feature_extraction.text import TfidfVectorizer\n",
    "from sklearn.preprocessing import LabelEncoder\n",
    "import keras\n",
    "\n",
    "max_features = 2000\n",
    "\n",
    "# read in the training data\n",
    "train_data = pd.read_csv('../data/sa_train.csv')\n",
    "print(len(train_data), train_data['output'].unique())\n",
    "\n",
    "# create TFIDF representations\n",
    "vectorizer = TfidfVectorizer(ngram_range=(1,2), min_df=0.001, max_df=0.75, stop_words='english', max_features=max_features)\n",
    "\n",
    "X_train = vectorizer.fit_transform(train_data.input)\n",
    "print(X_train.shape)\n",
    "\n",
    "# transform labels into numbers\n",
    "labels2numbers = LabelEncoder()\n",
    "\n",
    "y_train_org = labels2numbers.fit_transform(train_data['output'])\n",
    "print(y_train_org[:10], len(y_train_org))\n",
    "\n",
    "\n",
    "\n",
    "# read in test data\n",
    "test_data = pd.read_csv('../../lectures/17/sa_test.csv')\n",
    "print(len(test_data), test_data['output'].unique())\n",
    "\n",
    "X_test = vectorizer.transform(test_data.input)\n",
    "print(X_test.shape)\n",
    "\n",
    "y_test_org = labels2numbers.transform(test_data['output'])\n",
    "print(y_test_org[:10], len(y_test_org))\n",
    "\n",
    "# get number of classes for transformation\n",
    "num_classes = max(y_train_org) + 1\n",
    "\n",
    "print('Convert class vector to binary 1-hot encoding matrix (for use with categorical_crossentropy)')\n",
    "y_train = keras.utils.to_categorical(y_train_org, num_classes)\n",
    "y_test = keras.utils.to_categorical(y_test_org, num_classes)"
   ]
  },
  {
   "cell_type": "code",
   "execution_count": 12,
   "metadata": {},
   "outputs": [
    {
     "name": "stdout",
     "output_type": "stream",
     "text": [
      "y_train shape: (1800, 2)\n",
      "y_test shape: (200, 2)\n",
      "[[1. 0.]\n",
      " [1. 0.]\n",
      " [1. 0.]\n",
      " [0. 1.]\n",
      " [0. 1.]\n",
      " [1. 0.]\n",
      " [0. 1.]\n",
      " [0. 1.]\n",
      " [1. 0.]\n",
      " [1. 0.]] [0 0 0 1 1 0 1 1 0 0]\n"
     ]
    }
   ],
   "source": [
    "print('y_train shape:', y_train.shape)\n",
    "print('y_test shape:', y_test.shape)\n",
    "\n",
    "print(y_train[:10], y_train_org[:10])"
   ]
  },
  {
   "cell_type": "code",
   "execution_count": 13,
   "metadata": {},
   "outputs": [
    {
     "name": "stdout",
     "output_type": "stream",
     "text": [
      "Building model...\n",
      "WARNING:tensorflow:From /Users/dirkhovy/anaconda3/lib/python3.6/site-packages/tensorflow/python/ops/math_ops.py:3066: to_int32 (from tensorflow.python.ops.math_ops) is deprecated and will be removed in a future version.\n",
      "Instructions for updating:\n",
      "Use tf.cast instead.\n",
      "Train on 1620 samples, validate on 180 samples\n",
      "Epoch 1/5\n",
      "1620/1620 [==============================] - 6s 3ms/step - loss: 0.5610 - acc: 0.7185 - val_loss: 0.3878 - val_acc: 0.8556\n",
      "Epoch 2/5\n",
      "1620/1620 [==============================] - 5s 3ms/step - loss: 0.2380 - acc: 0.9216 - val_loss: 0.3258 - val_acc: 0.8611\n",
      "Epoch 3/5\n",
      "1620/1620 [==============================] - 5s 3ms/step - loss: 0.1108 - acc: 0.9704 - val_loss: 0.3819 - val_acc: 0.8389\n",
      "Epoch 4/5\n",
      "1620/1620 [==============================] - 5s 3ms/step - loss: 0.0504 - acc: 0.9920 - val_loss: 0.3876 - val_acc: 0.8556\n",
      "Epoch 5/5\n",
      "1620/1620 [==============================] - 5s 3ms/step - loss: 0.0247 - acc: 0.9981 - val_loss: 0.4144 - val_acc: 0.8667\n",
      "200/200 [==============================] - 0s 293us/step\n",
      "Test loss: 0.5518322148919106\n",
      "Test accuracy: 0.78\n"
     ]
    }
   ],
   "source": [
    "batch_size = 8\n",
    "epochs = 5\n",
    "\n",
    "print('Building model...')\n",
    "model = Sequential()\n",
    "model.add(Dense(512, input_shape=(max_features,)))\n",
    "model.add(Activation('relu'))\n",
    "model.add(Dropout(0.5))\n",
    "model.add(Dense(num_classes))\n",
    "model.add(Activation('softmax'))\n",
    "\n",
    "model.compile(loss='categorical_crossentropy',\n",
    "              optimizer='adam',\n",
    "              metrics=['accuracy'])\n",
    "\n",
    "history = model.fit(X_train, y_train,\n",
    "                    batch_size=batch_size,\n",
    "                    epochs=epochs,\n",
    "                    verbose=1,\n",
    "                    validation_split=0.1)\n",
    "loss, accuracy = model.evaluate(X_test, y_test,\n",
    "                       batch_size=batch_size, verbose=1)\n",
    "print('Test loss:', loss)\n",
    "print('Test accuracy:', accuracy)"
   ]
  },
  {
   "cell_type": "code",
   "execution_count": 14,
   "metadata": {},
   "outputs": [
    {
     "name": "stdout",
     "output_type": "stream",
     "text": [
      "[[6.6256290e-04 9.9933738e-01]\n",
      " [9.9985409e-01 1.4590834e-04]\n",
      " [8.7059714e-02 9.1294026e-01]\n",
      " [9.9940169e-01 5.9825863e-04]\n",
      " [1.5189968e-03 9.9848098e-01]\n",
      " [9.3822020e-01 6.1779819e-02]\n",
      " [5.7638186e-01 4.2361814e-01]\n",
      " [8.9618921e-01 1.0381078e-01]\n",
      " [9.9939859e-01 6.0137175e-04]\n",
      " [4.3675789e-01 5.6324208e-01]]\n"
     ]
    }
   ],
   "source": [
    "# output class probability matrix\n",
    "print(model.predict(X_test[:10]))"
   ]
  },
  {
   "cell_type": "code",
   "execution_count": 15,
   "metadata": {},
   "outputs": [
    {
     "data": {
      "text/plain": [
       "array([1, 0, 1, 0, 1, 0, 0, 0, 0, 1])"
      ]
     },
     "execution_count": 15,
     "metadata": {},
     "output_type": "execute_result"
    }
   ],
   "source": [
    "# output actual class predictions\n",
    "model.predict_classes(X_test[:10])"
   ]
  },
  {
   "cell_type": "code",
   "execution_count": 16,
   "metadata": {},
   "outputs": [
    {
     "name": "stdout",
     "output_type": "stream",
     "text": [
      "              precision    recall  f1-score   support\n",
      "\n",
      "           0       0.82      0.77      0.80       111\n",
      "           1       0.74      0.79      0.76        89\n",
      "\n",
      "   micro avg       0.78      0.78      0.78       200\n",
      "   macro avg       0.78      0.78      0.78       200\n",
      "weighted avg       0.78      0.78      0.78       200\n",
      "\n"
     ]
    }
   ],
   "source": [
    "from sklearn.metrics import f1_score, classification_report\n",
    "print(classification_report(y_test_org, model.predict_classes(X_test)))"
   ]
  },
  {
   "cell_type": "markdown",
   "metadata": {
    "slideshow": {
     "slide_type": "slide"
    }
   },
   "source": [
    "## References\n",
    "\n",
    "* [http://keras.io/#getting-started-30-seconds-to-keras](http://keras.io/#getting-started-30-seconds-to-keras)\n",
    "* [http://keras.io/getting-started/sequential-model-guide/](http://keras.io/getting-started/sequential-model-guide/)\n",
    "* [https://arxiv.org/pdf/1510.00726.pdf](https://arxiv.org/pdf/1510.00726.pdf)"
   ]
  }
 ],
 "metadata": {
  "celltoolbar": "Slideshow",
  "kernelspec": {
   "display_name": "Python 3",
   "language": "python",
   "name": "python3"
  },
  "language_info": {
   "codemirror_mode": {
    "name": "ipython",
    "version": 3
   },
   "file_extension": ".py",
   "mimetype": "text/x-python",
   "name": "python",
   "nbconvert_exporter": "python",
   "pygments_lexer": "ipython3",
   "version": "3.6.8"
  }
 },
 "nbformat": 4,
 "nbformat_minor": 1
}
