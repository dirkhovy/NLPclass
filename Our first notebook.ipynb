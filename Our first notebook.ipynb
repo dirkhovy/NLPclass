{
 "cells": [
  {
   "cell_type": "markdown",
   "metadata": {},
   "source": [
    "# Welcome!\n",
    "\n",
    "Please click on the cell below, and then execute it either by pressing the `run cell` button above (next to the `stop` button), or by hitting SHIFT+ENTER on your keyboard."
   ]
  },
  {
   "cell_type": "code",
   "execution_count": null,
   "metadata": {},
   "outputs": [],
   "source": [
    "garble = 'C#LoBln{;gFZr>!a%LtVQu!(l&Ya!zt/;i iofKn: sg_,gh %gyGroUquJ` jeaY!r:-e]m $taIZlbCr \"e;Fa{Yd,hy>] _xog*nb{ |Ky*PoY)uTKr&K %)wipa@ny{g QEtMloXy %apWsr,foO\\'g+RryBaD\\'mT-m*}iIrnE;gy=!>t'\n",
    "\n",
    "print(''.join([garble[c] for c in range(0, len(garble), 3)]))"
   ]
  },
  {
   "cell_type": "markdown",
   "metadata": {
    "collapsed": true
   },
   "source": [
    "We will frequently be using the `spacy` library. While it comes pre-packaged in Anaconda, you need to make sure you have downloaded the language-specific models. If you get an error executing the next code cell, please make sure you install at least the English model. See details at [https://spacy.io/usage/models#section-install](https://spacy.io/usage/models#section-install)"
   ]
  },
  {
   "cell_type": "code",
   "execution_count": null,
   "metadata": {},
   "outputs": [],
   "source": [
    "import spacy\n",
    "\n",
    "spacy.load('en')"
   ]
  },
  {
   "cell_type": "code",
   "execution_count": null,
   "metadata": {},
   "outputs": [],
   "source": []
  }
 ],
 "metadata": {
  "kernelspec": {
   "display_name": "Python 3",
   "language": "python",
   "name": "python3"
  },
  "language_info": {
   "codemirror_mode": {
    "name": "ipython",
    "version": 3
   },
   "file_extension": ".py",
   "mimetype": "text/x-python",
   "name": "python",
   "nbconvert_exporter": "python",
   "pygments_lexer": "ipython3",
   "version": "3.6.6"
  }
 },
 "nbformat": 4,
 "nbformat_minor": 2
}
